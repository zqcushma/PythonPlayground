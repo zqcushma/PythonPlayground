{
 "cells": [
  {
   "cell_type": "code",
   "execution_count": 6,
   "metadata": {},
   "outputs": [],
   "source": [
    "import pandas as pd\n",
    "import numpy as np\n",
    "import matplotlib as plot"
   ]
  },
  {
   "cell_type": "code",
   "execution_count": 4,
   "metadata": {},
   "outputs": [
    {
     "name": "stdout",
     "output_type": "stream",
     "text": [
      "My name is Zachary Cushman, I live in USA. My age is 50\n",
      "My hourly wage is 20. My daily wage is 160\n",
      "My name is Zachary Cushman. I live in USA. My age is 50\n"
     ]
    }
   ],
   "source": [
    "name = \"Zachary Cushman\"\n",
    "country = \"USA\"\n",
    "age = 50\n",
    "hourlyWage = 20\n",
    "dailyWage = hourlyWage*8\n",
    "satisfied = True\n",
    "\n",
    "print(\"My name is \" + name + \", \" + \"I live in \" + country + \". \" + \"My age is \" + str(age))\n",
    "print(\"My hourly wage is \" + str(hourlyWage) + \". \" + \"My daily wage is \" + str(dailyWage))\n",
    "\n",
    "print(f\"My name is {name}. I live in {country}. My age is {age}\")"
   ]
  }
 ],
 "metadata": {
  "kernelspec": {
   "display_name": "dev",
   "language": "python",
   "name": "python3"
  },
  "language_info": {
   "codemirror_mode": {
    "name": "ipython",
    "version": 3
   },
   "file_extension": ".py",
   "mimetype": "text/x-python",
   "name": "python",
   "nbconvert_exporter": "python",
   "pygments_lexer": "ipython3",
   "version": "3.10.13"
  },
  "orig_nbformat": 4
 },
 "nbformat": 4,
 "nbformat_minor": 2
}
