{
 "cells": [
  {
   "cell_type": "code",
   "execution_count": 1,
   "metadata": {},
   "outputs": [],
   "source": [
    "import scipy as sp\n",
    "import statistics as stat\n",
    "import matplotlib.pyplot as plt\n",
    "import seaborn\n",
    "import pandas_datareader as pdr\n",
    "import pandas as pd\n",
    "import datetime\n",
    "from dateutil.relativedelta import relativedelta"
   ]
  },
  {
   "cell_type": "code",
   "execution_count": 2,
   "metadata": {},
   "outputs": [],
   "source": [
    "class StockAnalyzer:\n",
    "    def __init__(self, stocks=[], weights=[], source=\"yahoo\", date=\"\", betayears=5, market=\"SPY\", monthly=True):\n",
    "        self.stocks = stocks\n",
    "        self.weights = weights\n",
    "        self.source = source\n",
    "        self.betayears = betayears\n",
    "        self.market = market\n",
    "            \n",
    "        if date==\"\":\n",
    "            self.date = datetime.date.today()\n",
    "        else:\n",
    "            self.date = datetime.strpTime(date)\n",
    "        \n",
    "        self.start = self.date + relativedelta(years=-self.betayears)\n",
    "        \n",
    "        if monthly:\n",
    "            \n",
    "        \n",
    "        self.prices = pdr.DataReader(self.stocks, data_source = self.source, start = self.start, end = self.date)\n",
    "        self.prices = self.prices[\"Adj Close\"]\n",
    "        self.market = pdr.DataReader(self.market, data_source = self.source, start = self.start, end = self.date)\n",
    "        self.market = self.market[\"Adj Close\"]\n",
    "        \n",
    "    def portfoliobeta(self, excel=False):\n",
    "        benchmark = self.market.pct_change()[1:]\n",
    "        returns = self.prices.pct_change()[1:]\n",
    "        portfolio = (returns * self.weights).sum(axis=1)\n",
    "        (beta, alpha) = sp.stats.linregress(benchmark.values, portfolio.values)[0:2]\n",
    "        stockbeta = pd.DataFrame()\n",
    "        for stock in returns.columns:\n",
    "            (beta, alpha) = sp.stats.linregress(benchmark.values, returns[stock].values)[0:2]\n",
    "            stockbeta = stockbeta.append({\"Stock\":stock, \"beta\":beta, \"alpha\":alpha}, ignore_index=True)\n",
    "        print(stockbeta)\n",
    "        print(f\"Portfolio beta: {beta}\")\n",
    "        \n",
    "        if excel:\n",
    "            stockbeta.to_excel('./stockbetas.xlsx', sheet_name = \"Betas\", index=False)"
   ]
  },
  {
   "cell_type": "code",
   "execution_count": 3,
   "metadata": {},
   "outputs": [
    {
     "name": "stdout",
     "output_type": "stream",
     "text": [
      "  Stock     alpha      beta\n",
      "0   CCL -0.000799  1.651964\n",
      "1  AAPL  0.000610  1.208197\n",
      "2  NCLH -0.000833  1.779400\n",
      "3  BABA  0.000449  0.896775\n",
      "4  SCHX  0.000006  1.015574\n",
      "5   DTE  0.000041  0.798743\n",
      "6  QFIN       NaN       NaN\n",
      "Portfolio beta: nan\n"
     ]
    }
   ],
   "source": [
    "analyze = StockAnalyzer([\"CCL\",\"AAPL\",\"NCLH\",\"BABA\",\"SCHX\",\"DTE\",\"QFIN\"], [0.1681,0.1485,0.2986,0.1831,0.1494,0.0523, 0.1909])\n",
    "analyze.portfoliobeta()"
   ]
  },
  {
   "cell_type": "code",
   "execution_count": null,
   "metadata": {},
   "outputs": [],
   "source": []
  }
 ],
 "metadata": {
  "kernelspec": {
   "display_name": "Python 3",
   "language": "python",
   "name": "python3"
  },
  "language_info": {
   "codemirror_mode": {
    "name": "ipython",
    "version": 3
   },
   "file_extension": ".py",
   "mimetype": "text/x-python",
   "name": "python",
   "nbconvert_exporter": "python",
   "pygments_lexer": "ipython3",
   "version": "3.8.5"
  }
 },
 "nbformat": 4,
 "nbformat_minor": 4
}
