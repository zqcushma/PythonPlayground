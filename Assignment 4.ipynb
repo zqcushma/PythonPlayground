{
 "cells": [
  {
   "cell_type": "code",
   "execution_count": 3,
   "metadata": {},
   "outputs": [],
   "source": [
    "import scipy as sp\n",
    "import statistics as stat\n",
    "import matplotlib.pyplot as plt\n",
    "import seaborn\n",
    "import pandas_datareader as pdr\n",
    "import pandas as pd\n",
    "import datetime\n",
    "from dateutil.relativedelta import relativedelta"
   ]
  },
  {
   "cell_type": "code",
   "execution_count": 4,
   "metadata": {},
   "outputs": [],
   "source": [
    "class StockAnalyzer:\n",
    "    def __init__(self, stocks=[], weights=[], source=\"yahoo\", date=\"\", betayears=5, market=\"SPY\", monthly=True):\n",
    "        self.stocks = stocks\n",
    "        self.weights = weights\n",
    "        self.source = source\n",
    "        self.betayears = betayears\n",
    "        self.market = market\n",
    "            \n",
    "        if date==\"\":\n",
    "            self.date = datetime.date.today()\n",
    "        else:\n",
    "            self.date = datetime.strpTime(date)\n",
    "        \n",
    "        self.start = self.date + relativedelta(years=-self.betayears)\n",
    "        \n",
    "        #if monthly:\n",
    "            \n",
    "        \n",
    "        self.prices = pdr.DataReader(self.stocks, data_source = self.source, start = self.start, end = self.date)\n",
    "        self.prices = self.prices[\"Adj Close\"]\n",
    "        self.market = pdr.DataReader(self.market, data_source = self.source, start = self.start, end = self.date)\n",
    "        self.market = self.market[\"Adj Close\"]\n",
    "        \n",
    "    def portfoliobeta(self, excel=False):\n",
    "        benchmark = self.market.pct_change()[1:]\n",
    "        returns = self.prices.pct_change()[1:]\n",
    "        portfolio = (returns * self.weights).sum(axis=1)\n",
    "        (beta, alpha) = sp.stats.linregress(benchmark.values, portfolio.values)[0:2]\n",
    "        stockbeta = pd.DataFrame()\n",
    "        for stock in returns.columns:\n",
    "            (beta, alpha) = sp.stats.linregress(benchmark.values, returns[stock].values)[0:2]\n",
    "            stockbeta = stockbeta.append({\"Stock\":stock, \"beta\":beta, \"alpha\":alpha}, ignore_index=True)\n",
    "        print(stockbeta)\n",
    "        print(f\"Portfolio beta: {beta}\")\n",
    "        \n",
    "        if excel:\n",
    "            stockbeta.to_excel('./stockbetas.xlsx', sheet_name = \"Betas\", index=False)"
   ]
  },
  {
   "cell_type": "code",
   "execution_count": 5,
   "metadata": {},
   "outputs": [
    {
     "ename": "TypeError",
     "evalue": "string indices must be integers",
     "output_type": "error",
     "traceback": [
      "\u001b[1;31m---------------------------------------------------------------------------\u001b[0m",
      "\u001b[1;31mTypeError\u001b[0m                                 Traceback (most recent call last)",
      "\u001b[1;32md:\\Desktop\\Data Analytics Work\\Python Playground\\PythonPlayground\\Assignment 4.ipynb Cell 3\u001b[0m line \u001b[0;36m1\n\u001b[1;32m----> <a href='vscode-notebook-cell:/d%3A/Desktop/Data%20Analytics%20Work/Python%20Playground/PythonPlayground/Assignment%204.ipynb#W2sZmlsZQ%3D%3D?line=0'>1</a>\u001b[0m analyze \u001b[39m=\u001b[39m StockAnalyzer([\u001b[39m\"\u001b[39;49m\u001b[39mCCL\u001b[39;49m\u001b[39m\"\u001b[39;49m,\u001b[39m\"\u001b[39;49m\u001b[39mAAPL\u001b[39;49m\u001b[39m\"\u001b[39;49m,\u001b[39m\"\u001b[39;49m\u001b[39mNCLH\u001b[39;49m\u001b[39m\"\u001b[39;49m,\u001b[39m\"\u001b[39;49m\u001b[39mBABA\u001b[39;49m\u001b[39m\"\u001b[39;49m,\u001b[39m\"\u001b[39;49m\u001b[39mSCHX\u001b[39;49m\u001b[39m\"\u001b[39;49m,\u001b[39m\"\u001b[39;49m\u001b[39mDTE\u001b[39;49m\u001b[39m\"\u001b[39;49m,\u001b[39m\"\u001b[39;49m\u001b[39mQFIN\u001b[39;49m\u001b[39m\"\u001b[39;49m], [\u001b[39m0.1681\u001b[39;49m,\u001b[39m0.1485\u001b[39;49m,\u001b[39m0.2986\u001b[39;49m,\u001b[39m0.1831\u001b[39;49m,\u001b[39m0.1494\u001b[39;49m,\u001b[39m0.0523\u001b[39;49m, \u001b[39m0.1909\u001b[39;49m])\n\u001b[0;32m      <a href='vscode-notebook-cell:/d%3A/Desktop/Data%20Analytics%20Work/Python%20Playground/PythonPlayground/Assignment%204.ipynb#W2sZmlsZQ%3D%3D?line=1'>2</a>\u001b[0m analyze\u001b[39m.\u001b[39mportfoliobeta()\n",
      "\u001b[1;32md:\\Desktop\\Data Analytics Work\\Python Playground\\PythonPlayground\\Assignment 4.ipynb Cell 3\u001b[0m line \u001b[0;36m1\n\u001b[0;32m     <a href='vscode-notebook-cell:/d%3A/Desktop/Data%20Analytics%20Work/Python%20Playground/PythonPlayground/Assignment%204.ipynb#W2sZmlsZQ%3D%3D?line=13'>14</a>\u001b[0m \u001b[39mself\u001b[39m\u001b[39m.\u001b[39mstart \u001b[39m=\u001b[39m \u001b[39mself\u001b[39m\u001b[39m.\u001b[39mdate \u001b[39m+\u001b[39m relativedelta(years\u001b[39m=\u001b[39m\u001b[39m-\u001b[39m\u001b[39mself\u001b[39m\u001b[39m.\u001b[39mbetayears)\n\u001b[0;32m     <a href='vscode-notebook-cell:/d%3A/Desktop/Data%20Analytics%20Work/Python%20Playground/PythonPlayground/Assignment%204.ipynb#W2sZmlsZQ%3D%3D?line=15'>16</a>\u001b[0m \u001b[39m#if monthly:\u001b[39;00m\n\u001b[1;32m---> <a href='vscode-notebook-cell:/d%3A/Desktop/Data%20Analytics%20Work/Python%20Playground/PythonPlayground/Assignment%204.ipynb#W2sZmlsZQ%3D%3D?line=18'>19</a>\u001b[0m \u001b[39mself\u001b[39m\u001b[39m.\u001b[39mprices \u001b[39m=\u001b[39m pdr\u001b[39m.\u001b[39;49mDataReader(\u001b[39mself\u001b[39;49m\u001b[39m.\u001b[39;49mstocks, data_source \u001b[39m=\u001b[39;49m \u001b[39mself\u001b[39;49m\u001b[39m.\u001b[39;49msource, start \u001b[39m=\u001b[39;49m \u001b[39mself\u001b[39;49m\u001b[39m.\u001b[39;49mstart, end \u001b[39m=\u001b[39;49m \u001b[39mself\u001b[39;49m\u001b[39m.\u001b[39;49mdate)\n\u001b[0;32m     <a href='vscode-notebook-cell:/d%3A/Desktop/Data%20Analytics%20Work/Python%20Playground/PythonPlayground/Assignment%204.ipynb#W2sZmlsZQ%3D%3D?line=19'>20</a>\u001b[0m \u001b[39mself\u001b[39m\u001b[39m.\u001b[39mprices \u001b[39m=\u001b[39m \u001b[39mself\u001b[39m\u001b[39m.\u001b[39mprices[\u001b[39m\"\u001b[39m\u001b[39mAdj Close\u001b[39m\u001b[39m\"\u001b[39m]\n\u001b[0;32m     <a href='vscode-notebook-cell:/d%3A/Desktop/Data%20Analytics%20Work/Python%20Playground/PythonPlayground/Assignment%204.ipynb#W2sZmlsZQ%3D%3D?line=20'>21</a>\u001b[0m \u001b[39mself\u001b[39m\u001b[39m.\u001b[39mmarket \u001b[39m=\u001b[39m pdr\u001b[39m.\u001b[39mDataReader(\u001b[39mself\u001b[39m\u001b[39m.\u001b[39mmarket, data_source \u001b[39m=\u001b[39m \u001b[39mself\u001b[39m\u001b[39m.\u001b[39msource, start \u001b[39m=\u001b[39m \u001b[39mself\u001b[39m\u001b[39m.\u001b[39mstart, end \u001b[39m=\u001b[39m \u001b[39mself\u001b[39m\u001b[39m.\u001b[39mdate)\n",
      "File \u001b[1;32md:\\Anaconda\\envs\\dev\\lib\\site-packages\\pandas\\util\\_decorators.py:210\u001b[0m, in \u001b[0;36mdeprecate_kwarg.<locals>._deprecate_kwarg.<locals>.wrapper\u001b[1;34m(*args, **kwargs)\u001b[0m\n\u001b[0;32m    208\u001b[0m         \u001b[39mraise\u001b[39;00m \u001b[39mTypeError\u001b[39;00m(msg)\n\u001b[0;32m    209\u001b[0m     kwargs[new_arg_name] \u001b[39m=\u001b[39m new_arg_value\n\u001b[1;32m--> 210\u001b[0m \u001b[39mreturn\u001b[39;00m func(\u001b[39m*\u001b[39margs, \u001b[39m*\u001b[39m\u001b[39m*\u001b[39mkwargs)\n",
      "File \u001b[1;32md:\\Anaconda\\envs\\dev\\lib\\site-packages\\pandas_datareader\\data.py:379\u001b[0m, in \u001b[0;36mDataReader\u001b[1;34m(name, data_source, start, end, retry_count, pause, session, api_key)\u001b[0m\n\u001b[0;32m    367\u001b[0m     \u001b[39mraise\u001b[39;00m \u001b[39mNotImplementedError\u001b[39;00m(msg)\n\u001b[0;32m    369\u001b[0m \u001b[39mif\u001b[39;00m data_source \u001b[39m==\u001b[39m \u001b[39m\"\u001b[39m\u001b[39myahoo\u001b[39m\u001b[39m\"\u001b[39m:\n\u001b[0;32m    370\u001b[0m     \u001b[39mreturn\u001b[39;00m YahooDailyReader(\n\u001b[0;32m    371\u001b[0m         symbols\u001b[39m=\u001b[39;49mname,\n\u001b[0;32m    372\u001b[0m         start\u001b[39m=\u001b[39;49mstart,\n\u001b[0;32m    373\u001b[0m         end\u001b[39m=\u001b[39;49mend,\n\u001b[0;32m    374\u001b[0m         adjust_price\u001b[39m=\u001b[39;49m\u001b[39mFalse\u001b[39;49;00m,\n\u001b[0;32m    375\u001b[0m         chunksize\u001b[39m=\u001b[39;49m\u001b[39m25\u001b[39;49m,\n\u001b[0;32m    376\u001b[0m         retry_count\u001b[39m=\u001b[39;49mretry_count,\n\u001b[0;32m    377\u001b[0m         pause\u001b[39m=\u001b[39;49mpause,\n\u001b[0;32m    378\u001b[0m         session\u001b[39m=\u001b[39;49msession,\n\u001b[1;32m--> 379\u001b[0m     )\u001b[39m.\u001b[39;49mread()\n\u001b[0;32m    381\u001b[0m \u001b[39melif\u001b[39;00m data_source \u001b[39m==\u001b[39m \u001b[39m\"\u001b[39m\u001b[39miex\u001b[39m\u001b[39m\"\u001b[39m:\n\u001b[0;32m    382\u001b[0m     \u001b[39mreturn\u001b[39;00m IEXDailyReader(\n\u001b[0;32m    383\u001b[0m         symbols\u001b[39m=\u001b[39mname,\n\u001b[0;32m    384\u001b[0m         start\u001b[39m=\u001b[39mstart,\n\u001b[1;32m   (...)\u001b[0m\n\u001b[0;32m    390\u001b[0m         session\u001b[39m=\u001b[39msession,\n\u001b[0;32m    391\u001b[0m     )\u001b[39m.\u001b[39mread()\n",
      "File \u001b[1;32md:\\Anaconda\\envs\\dev\\lib\\site-packages\\pandas_datareader\\base.py:258\u001b[0m, in \u001b[0;36m_DailyBaseReader.read\u001b[1;34m(self)\u001b[0m\n\u001b[0;32m    256\u001b[0m     df \u001b[39m=\u001b[39m \u001b[39mself\u001b[39m\u001b[39m.\u001b[39m_dl_mult_symbols(\u001b[39mself\u001b[39m\u001b[39m.\u001b[39msymbols\u001b[39m.\u001b[39mindex)\n\u001b[0;32m    257\u001b[0m \u001b[39melse\u001b[39;00m:\n\u001b[1;32m--> 258\u001b[0m     df \u001b[39m=\u001b[39m \u001b[39mself\u001b[39;49m\u001b[39m.\u001b[39;49m_dl_mult_symbols(\u001b[39mself\u001b[39;49m\u001b[39m.\u001b[39;49msymbols)\n\u001b[0;32m    259\u001b[0m \u001b[39mreturn\u001b[39;00m df\n",
      "File \u001b[1;32md:\\Anaconda\\envs\\dev\\lib\\site-packages\\pandas_datareader\\base.py:268\u001b[0m, in \u001b[0;36m_DailyBaseReader._dl_mult_symbols\u001b[1;34m(self, symbols)\u001b[0m\n\u001b[0;32m    266\u001b[0m \u001b[39mfor\u001b[39;00m sym \u001b[39min\u001b[39;00m sym_group:\n\u001b[0;32m    267\u001b[0m     \u001b[39mtry\u001b[39;00m:\n\u001b[1;32m--> 268\u001b[0m         stocks[sym] \u001b[39m=\u001b[39m \u001b[39mself\u001b[39;49m\u001b[39m.\u001b[39;49m_read_one_data(\u001b[39mself\u001b[39;49m\u001b[39m.\u001b[39;49murl, \u001b[39mself\u001b[39;49m\u001b[39m.\u001b[39;49m_get_params(sym))\n\u001b[0;32m    269\u001b[0m         passed\u001b[39m.\u001b[39mappend(sym)\n\u001b[0;32m    270\u001b[0m     \u001b[39mexcept\u001b[39;00m (\u001b[39mIOError\u001b[39;00m, \u001b[39mKeyError\u001b[39;00m):\n",
      "File \u001b[1;32md:\\Anaconda\\envs\\dev\\lib\\site-packages\\pandas_datareader\\yahoo\\daily.py:153\u001b[0m, in \u001b[0;36mYahooDailyReader._read_one_data\u001b[1;34m(self, url, params)\u001b[0m\n\u001b[0;32m    151\u001b[0m \u001b[39mtry\u001b[39;00m:\n\u001b[0;32m    152\u001b[0m     j \u001b[39m=\u001b[39m json\u001b[39m.\u001b[39mloads(re\u001b[39m.\u001b[39msearch(ptrn, resp\u001b[39m.\u001b[39mtext, re\u001b[39m.\u001b[39mDOTALL)\u001b[39m.\u001b[39mgroup(\u001b[39m1\u001b[39m))\n\u001b[1;32m--> 153\u001b[0m     data \u001b[39m=\u001b[39m j[\u001b[39m\"\u001b[39;49m\u001b[39mcontext\u001b[39;49m\u001b[39m\"\u001b[39;49m][\u001b[39m\"\u001b[39;49m\u001b[39mdispatcher\u001b[39;49m\u001b[39m\"\u001b[39;49m][\u001b[39m\"\u001b[39;49m\u001b[39mstores\u001b[39;49m\u001b[39m\"\u001b[39;49m][\u001b[39m\"\u001b[39;49m\u001b[39mHistoricalPriceStore\u001b[39;49m\u001b[39m\"\u001b[39;49m]\n\u001b[0;32m    154\u001b[0m \u001b[39mexcept\u001b[39;00m \u001b[39mKeyError\u001b[39;00m:\n\u001b[0;32m    155\u001b[0m     msg \u001b[39m=\u001b[39m \u001b[39m\"\u001b[39m\u001b[39mNo data fetched for symbol \u001b[39m\u001b[39m{}\u001b[39;00m\u001b[39m using \u001b[39m\u001b[39m{}\u001b[39;00m\u001b[39m\"\u001b[39m\n",
      "\u001b[1;31mTypeError\u001b[0m: string indices must be integers"
     ]
    }
   ],
   "source": [
    "analyze = StockAnalyzer([\"CCL\",\"AAPL\",\"NCLH\",\"BABA\",\"SCHX\",\"DTE\",\"QFIN\"], [0.1681,0.1485,0.2986,0.1831,0.1494,0.0523, 0.1909])\n",
    "analyze.portfoliobeta()"
   ]
  },
  {
   "cell_type": "code",
   "execution_count": null,
   "metadata": {},
   "outputs": [],
   "source": []
  }
 ],
 "metadata": {
  "kernelspec": {
   "display_name": "Python 3",
   "language": "python",
   "name": "python3"
  },
  "language_info": {
   "codemirror_mode": {
    "name": "ipython",
    "version": 3
   },
   "file_extension": ".py",
   "mimetype": "text/x-python",
   "name": "python",
   "nbconvert_exporter": "python",
   "pygments_lexer": "ipython3",
   "version": "3.10.13"
  }
 },
 "nbformat": 4,
 "nbformat_minor": 4
}
