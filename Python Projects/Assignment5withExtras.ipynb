{
 "cells": [
  {
   "cell_type": "markdown",
   "metadata": {},
   "source": [
    "# Assignment 5\n",
    "\n",
    "## Step 1\n",
    "Modify your program that calculates beta to take into the beta() method a frequency (day, month) and a duration ( number of years) to modify the beta calculation.\n",
    "\n",
    "## Step 2\n",
    "Create a historical diagram of the S&P index, Bitcoin, Ethereum, and XRP daily prices.\n",
    "\n",
    "## Step 3\n",
    "Write your datasets and the graph image from your Python program into a Microsoft Excel spreadsheet.\n",
    "\n",
    "## Step 4\n",
    "Implement a version of your program as a Python program instead of Jupyter Notebook.\n",
    "\n",
    "## Converting a Jupyter IPython Notebook to a simple Python program file\n",
    "For those looking for simple ways to convert your Jupyter  notebook to a stand alone Python program here is a good reference:\n",
    "\n",
    "Convert Python notebook to Python (Medium) by Vaku Lois (Links to an external site.) \n",
    "https://medium.com/@lois_idzi/convert-json-ipython-notebook-ipynb-to-python-py-file-e8cb42ba1455\n",
    " \n",
    "\n",
    "## Link to assignment\n",
    " \n",
    "https://mtu.instructure.com/courses/1347059/assignments/9202110"
   ]
  },
  {
   "cell_type": "markdown",
   "metadata": {},
   "source": [
    " ## Step 1\n",
    " \n",
    " The approach to calculate beta was taken from:\n",
    " https://www.codingfinance.com/post/2018-04-25-portfolio-beta-py/\n",
    "\n",
    " (Note: The example on codingfinance.com is rife with errors)\n",
    " \n",
    " Idea is myanalysis = StockAnalyzer(listOfStocks)\n",
    " \n",
    " Alternative ways to invoke - specify datasource\n",
    " \n",
    " myanalysis2 = StockAnalyzer(listOfStocks, listofweights, datasource=\"yahoo\")\n",
    " \n",
    " Specify a date in the past to calculate a previous beta\n",
    " \n",
    " myanalysis2=  StockAnalyser(listOfStocks, listofweights, asofDate='2013-03-31')"
   ]
  },
  {
   "cell_type": "code",
   "execution_count": 3,
   "metadata": {},
   "outputs": [],
   "source": [
    "import numpy as np\n",
    "import scipy as sp\n",
    "import matplotlib.pyplot as plt\n",
    "import seaborn\n",
    "import pandas_datareader as pdr\n",
    "import pandas as pd\n",
    "import datetime\n",
    "import yfinance as yf\n",
    "from dateutil.relativedelta import relativedelta\n",
    "#\n",
    "# Packages needed to write to Excel\n",
    "#\n",
    "import openpyxl\n",
    "import pandas as pd\n",
    "from openpyxl import Workbook\n",
    "from openpyxl.styles import Font, Fill, PatternFill,Border\n",
    "#\n",
    "# StockAnalyzer class that will calculate betas for a portfolio of stocks\n",
    "#\n",
    "\n",
    "class StockAnalyzer():\n",
    "\n",
    "    def __init__(self,listOfStocks=[], listOfWeights=[], datasource=\"yahoo\", asofDate=\"\", betaperiod=5, market=\"SPY\"):\n",
    "\n",
    "        self._stocks=listOfStocks\n",
    "        self._portfolioWeights=listOfWeights\n",
    "        self.__datasource=datasource\n",
    "        self.__betaperiod=betaperiod\n",
    "        self._market=market\n",
    "\n",
    "        if asofDate==\"\":\n",
    "            self._asofDate=datetime.date.today()\n",
    "        else:\n",
    "            self._asofDate=datetime.strpTime(asofDate)\n",
    "\n",
    "        self._startDate=self._asofDate + relativedelta(years=-self.__betaperiod)\n",
    "\n",
    "        self._stockprices = pdr.DataReader(self._stocks, data_source = self.__datasource,\n",
    "                                           start = self._startDate, end = self._asofDate)['Adj Close']\n",
    "\n",
    "        self._marketprice = pdr.DataReader(self._market, data_source = self.__datasource,\n",
    "                                           start = self._startDate, end = self._asofDate)['Adj Close']\n",
    "\n",
    "        \n",
    "    def stockPrices(self):\n",
    "        return self._stockprices\n",
    "\n",
    "    def setMarketTicker(self,newmarket):\n",
    "        self._market=newmarket\n",
    "\n",
    "    def portfoliobetaDaily(self):\n",
    "        return beta(self._marketprice,self._stockprices, self._portfolioWeights)\n",
    "       \n",
    "        \n",
    "    def portfoliobetaMonthly(self):\n",
    "        return beta(self._marketprice.resample('M').last(),self._stockprices.resample('M').last(),self._portfolioWeights)\n",
    " \n",
    "#\n",
    "# Stand alone function (not part of the StockAnalyzer class) that takes in a list of stocks and then queries Yahoo! to read a specific attribute\n",
    "# Usage example is  stockinfo([\"TSLA\",\"GM\"],\"beta\")\n",
    "#\n",
    "# returns a pandas dataframe contain the stocks and the attribute specified\n",
    "#       \n",
    "def stockinfo(stocks, attribute):\n",
    "    \n",
    "    stockattribute=pd.DataFrame()\n",
    "\n",
    "    for stock in stocks:\n",
    "        stockinfo=yf.Ticker(stock).info\n",
    "        stockattribute=stockattribute.append({\"Stock\":stock,attribute:stockinfo[attribute]},ignore_index=True)\n",
    "\n",
    "    return stockattribute\n",
    "\n",
    "#\n",
    "# Stand alone function (not part of the StockAnalyzer class) to calculate the beta for a portfolio of stocks in addition to the betas for each stock and a list of the weights for \n",
    "# each stock in the portfolio\n",
    "#\n",
    "# expects a pandas dataframe of prices for a benchmark security and a pandas dataframe containing prices for a list of stocks\n",
    "#\n",
    "# return a pandata dataframe with the betas for the portfolio \n",
    "#\n",
    "#\n",
    "def beta(benchmark,portfolio,portfolioWeights):\n",
    "\n",
    "    # calculate the returns (percent change)\n",
    "    \n",
    "    benchmark_returns = benchmark.pct_change()[1:]\n",
    "\n",
    "    stock_returns = portfolio.pct_change()[1:]\n",
    "\n",
    "\n",
    "    # calculate portfolio beta and store in a new dataframe\n",
    "\n",
    "    beta=pd.DataFrame()\n",
    "\n",
    "    # calculate the beta for each stock\n",
    "\n",
    "    for s in stock_returns.columns:\n",
    "\n",
    "        result = sp.stats.linregress(benchmark_returns.values,stock_returns[s].values)\n",
    "\n",
    "        beta=beta.append({\"Stock\":s,\"beta\":result.slope},ignore_index=True)       \n",
    " \n",
    "    # create the portfolio returns by taking the weight of each return\n",
    "    \n",
    "    portfolio_returns = (stock_returns * portfolioWeights).sum(axis = 1)\n",
    "    \n",
    "    result = sp.stats.linregress(benchmark_returns.values,portfolio_returns.values)\n",
    "\n",
    "    beta=beta.append({\"Stock\": \"Portfolio\",\"beta\":result.slope},ignore_index=True)    \n",
    " \n",
    "    \n",
    "    return beta"
   ]
  },
  {
   "cell_type": "markdown",
   "metadata": {},
   "source": [
    "## Demonstrate the use of mystockanalyzer"
   ]
  },
  {
   "cell_type": "code",
   "execution_count": 4,
   "metadata": {},
   "outputs": [
    {
     "name": "stdout",
     "output_type": "stream",
     "text": [
      "returned from Yahoo! Finance\n",
      "  Stock      beta\n",
      "0  TSLA  2.010479\n",
      "1   GME -1.816878\n",
      "2     T  0.737451\n",
      "3   IBM  1.225041\n",
      "4  AAPL  1.219525\n",
      "Calculated using daily prices\n",
      "       Stock      beta\n",
      "0       TSLA  1.339685\n",
      "1        GME  0.792031\n",
      "2          T  0.756354\n",
      "3        IBM  0.991783\n",
      "4       AAPL  1.210407\n",
      "5  Portfolio  1.018052\n",
      "calculated using monthly prices\n",
      "       Stock      beta\n",
      "0       TSLA  1.987548\n",
      "1        GME -2.116980\n",
      "2          T  0.776212\n",
      "3        IBM  1.250217\n",
      "4       AAPL  1.218496\n",
      "5  Portfolio  0.623099\n"
     ]
    }
   ],
   "source": [
    "mystocks=[\"TSLA\",\"GME\",\"T\",\"IBM\",\"AAPL\"]\n",
    "\n",
    "myweights=[0.2,0.2,0.2,0.2,0.2]\n",
    "\n",
    "mystockanalyzer = StockAnalyzer(mystocks,myweights)\n",
    "\n",
    "yahoobetas=stockinfo(mystocks,\"beta\")\n",
    "\n",
    "dailybetas=mystockanalyzer.portfoliobetaDaily()\n",
    "\n",
    "monthlybetas=mystockanalyzer.portfoliobetaMonthly()\n",
    "\n",
    "print(\"returned from Yahoo! Finance\")\n",
    "print(yahoobetas)\n",
    "\n",
    "print(\"Calculated using daily prices\")\n",
    "print(dailybetas)\n",
    "\n",
    "print(\"calculated using monthly prices\")\n",
    "print(monthlybetas)"
   ]
  },
  {
   "cell_type": "markdown",
   "metadata": {},
   "source": [
    "## Extras: Outputting your betas to Excel\n",
    "This is not part of the assignment - but might be useful for Step 2, which is to get pricing data and output to an Excel spreadsheet"
   ]
  },
  {
   "cell_type": "markdown",
   "metadata": {},
   "source": [
    "\n",
    "### Approach 1: simply output the pandas DataFrame to individual files\n"
   ]
  },
  {
   "cell_type": "code",
   "execution_count": 5,
   "metadata": {},
   "outputs": [],
   "source": [
    "yahoobetas.to_excel(\"yahoobetas.xlsx\")\n",
    "dailybetas.to_excel(\"dailybetas.xlsx\")\n",
    "monthlybetas.to_excel(\"monthlybetas.xlsx\")"
   ]
  },
  {
   "cell_type": "markdown",
   "metadata": {},
   "source": [
    "### Approach 2: Use the openpyxl package to output all the betas to different sheets in the same Excel"
   ]
  },
  {
   "cell_type": "code",
   "execution_count": 6,
   "metadata": {},
   "outputs": [],
   "source": [
    "#\n",
    "# Write them to different sheets in the same workbook\n",
    "#\n",
    "with pd.ExcelWriter(\"mybetas.xlsx\") as writer:\n",
    "    yahoobetas.to_excel(writer,sheet_name='Yahoo_beta')\n",
    "    dailybetas.to_excel(writer,sheet_name='Daily_beta')\n",
    "    monthlybetas.to_excel(writer,sheet_name='Monthly_beta')"
   ]
  },
  {
   "cell_type": "markdown",
   "metadata": {},
   "source": [
    "### Approach 3: Write all the data in a single sheet using openpyxl"
   ]
  },
  {
   "cell_type": "code",
   "execution_count": 7,
   "metadata": {},
   "outputs": [
    {
     "name": "stdout",
     "output_type": "stream",
     "text": [
      "['TSLA', 2.010479, 1.3396847088812052, 1.9875478922370142]\n",
      "['GME', -1.816878, 0.7920311078621645, -2.1169804848017924]\n",
      "['T', 0.737451, 0.7563539896367435, 0.7762121386012019]\n",
      "['IBM', 1.225041, 0.9917834379005854, 1.2502167787404872]\n",
      "['AAPL', 1.219525, 1.2104070743144126, 1.2184964885935048]\n"
     ]
    }
   ],
   "source": [
    "# create a workbook object in memory \n",
    "\n",
    "wb=Workbook() # Empty workbook with one default sheet\n",
    "\n",
    "# ask the workbook object for its active sheet (the one default one added)\n",
    "\n",
    "ws=wb.active\n",
    "\n",
    "# Change the tab title of the worksheet\n",
    "\n",
    "ws.title=\"Betas\"\n",
    "\n",
    "# Let's access the propertis of or worksheet so we can give our worksheet tab a color\n",
    "\n",
    "wsprops = ws.sheet_properties\n",
    "wsprops.tabColor = \"00FF00\"\n",
    "\n",
    "# add a header row\n",
    "\n",
    "columns=['Ticker', 'Yahoo!','Daily','Monthly']\n",
    "\n",
    "ws.append(columns)\n",
    "\n",
    "# Lets color the header row cells and bold the text by setting the fill and font attributes on each cell\n",
    "\n",
    "\n",
    "fill1=PatternFill(fill_type=\"solid\",start_color=\"FFFF00\", end_color=\"FFFF00\")\n",
    "\n",
    "# We can use the length of the columns list from above to determine how many cells to make bold and turn yellow.\n",
    "\n",
    "for i in range(1,len(columns)+1):\n",
    "    ws.cell(row=1,column=i).fill=fill1\n",
    "    ws.cell(row=1,column=i).font=Font(bold=True)\n",
    "\n",
    "#\n",
    "# Approach 1: we will convert Yahoo Betas to lists and then extend that list with values from the daily and monthly\n",
    "# betas and add them to the Yahoo betas list, then append the entire row to our spreadsheet.\n",
    "#\n",
    "\n",
    "for i in range(yahoobetas.index.size):\n",
    "    row=list(yahoobetas.iloc[i,0:2])\n",
    "    row.extend(list(dailybetas.iloc[i,1:2])) # add the value from daily to the list\n",
    "    row.extend(list(monthlybetas.iloc[i,1:2])) # add the value from monthly to the list\n",
    "    print(row)\n",
    "    ws.append(row)\n",
    "\n",
    "wb.save(\"combined.xlsx\")"
   ]
  },
  {
   "cell_type": "markdown",
   "metadata": {},
   "source": [
    "\n",
    "### Approach 4: we will use the Pandas Dataframe merge capability to create on dataframe then export it to Excel.\n"
   ]
  },
  {
   "cell_type": "code",
   "execution_count": 8,
   "metadata": {},
   "outputs": [
    {
     "name": "stdout",
     "output_type": "stream",
     "text": [
      "  Stock      beta  beta_daily  beta_monthly\n",
      "0  TSLA  2.010479    1.339685      1.987548\n",
      "1   GME -1.816878    0.792031     -2.116980\n",
      "2     T  0.737451    0.756354      0.776212\n",
      "3   IBM  1.225041    0.991783      1.250217\n",
      "4  AAPL  1.219525    1.210407      1.218496\n"
     ]
    }
   ],
   "source": [
    "# We will merge daily and monthly betas - the duplicate column names will be appended with _daily and _monthly respectively\n",
    "\n",
    "combined=pd.merge(dailybetas, monthlybetas, left_on = 'Stock', right_on = 'Stock', how = 'left', suffixes=(\"_daily\",\"_monthly\"))\n",
    "\n",
    "# Now merge the combined with the yahoo betas\n",
    "\n",
    "combined=pd.merge(yahoobetas,combined, left_on = 'Stock', right_on = 'Stock', how = 'left')\n",
    "\n",
    "# since all the data is in a single dataframe now - we can just ask pandas to output as an Excel spreadsheet\n",
    "\n",
    "combined.to_excel(\"combined_simple.xlsx\")\n",
    "\n",
    "print(combined)"
   ]
  },
  {
   "cell_type": "code",
   "execution_count": null,
   "metadata": {},
   "outputs": [],
   "source": []
  },
  {
   "cell_type": "code",
   "execution_count": null,
   "metadata": {},
   "outputs": [],
   "source": []
  }
 ],
 "metadata": {
  "kernelspec": {
   "display_name": "Python 3",
   "language": "python",
   "name": "python3"
  },
  "language_info": {
   "codemirror_mode": {
    "name": "ipython",
    "version": 3
   },
   "file_extension": ".py",
   "mimetype": "text/x-python",
   "name": "python",
   "nbconvert_exporter": "python",
   "pygments_lexer": "ipython3",
   "version": "3.8.5"
  }
 },
 "nbformat": 4,
 "nbformat_minor": 4
}
