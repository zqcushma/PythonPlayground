{
 "cells": [
  {
   "cell_type": "code",
   "execution_count": 1,
   "metadata": {},
   "outputs": [],
   "source": [
    "class MinPayment:\n",
    "    balance = 0.0\n",
    "    annualInterest = 0.0\n",
    "    term = 0\n",
    "    monthlyInterest = 0.0    \n",
    "    error = 0.0\n",
    "    \n",
    "    def __init__(self, balance, annualInterest, term, error):\n",
    "        self.balance = balance\n",
    "        self.annualInterest = annualInterest\n",
    "        self.term = term\n",
    "        self.error = error\n",
    "        self.monthlyInterest = annualInterest/12\n",
    "    def findMinPayment(self):\n",
    "        return self.balance/self.term\n",
    "    def findMaxPayment(self):\n",
    "        return (self.balance * (1 + self.monthlyInterest)**12) / self.term\n",
    "    \n",
    "    #calculates the remaining balance after the 12 month period\n",
    "    def remainingBalance(self, payment):\n",
    "        newbalance = self.balance\n",
    "        for month in range(1, self.term+1):\n",
    "            newbalance -= payment\n",
    "            newbalance += self.monthlyInterest * newbalance\n",
    "        return (newbalance)\n",
    "        \n",
    "    def calculateMinPayment(self):\n",
    "        low = self.findMinPayment()\n",
    "        high = self.findMaxPayment()\n",
    "        finalAnswer = 0.0\n",
    "        breaker = 0\n",
    "        while breaker < 10000:\n",
    "            guess = (low + high) / 2\n",
    "            guessBalance = self.remainingBalance(guess)\n",
    "            if (abs(guessBalance) <= self.error):\n",
    "                \n",
    "                finalAnswer = guess\n",
    "                break\n",
    "            elif (guessBalance > 0):\n",
    "                breaker += 1\n",
    "                low = guess\n",
    "            else:\n",
    "                high = guess\n",
    "        if finalAnswer == 0.0:\n",
    "            return \"Error\"\n",
    "        else:\n",
    "            return round(finalAnswer, 2)"
   ]
  },
  {
   "cell_type": "code",
   "execution_count": 3,
   "metadata": {},
   "outputs": [
    {
     "name": "stdout",
     "output_type": "stream",
     "text": [
      "The minimum payment is $29157.09\n"
     ]
    }
   ],
   "source": [
    "mp = MinPayment(320000, 0.2, 12, 0.01)\n",
    "ans = mp.calculateMinPayment()\n",
    "print(\"The minimum payment is $\" + str(ans))"
   ]
  },
  {
   "cell_type": "code",
   "execution_count": null,
   "metadata": {},
   "outputs": [],
   "source": []
  }
 ],
 "metadata": {
  "kernelspec": {
   "display_name": "Python 3",
   "language": "python",
   "name": "python3"
  },
  "language_info": {
   "codemirror_mode": {
    "name": "ipython",
    "version": 3
   },
   "file_extension": ".py",
   "mimetype": "text/x-python",
   "name": "python",
   "nbconvert_exporter": "python",
   "pygments_lexer": "ipython3",
   "version": "3.8.5"
  }
 },
 "nbformat": 4,
 "nbformat_minor": 4
}
