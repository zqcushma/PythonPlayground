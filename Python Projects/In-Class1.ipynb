{
 "cells": [
  {
   "cell_type": "markdown",
   "metadata": {},
   "source": [
    "### In-Class1"
   ]
  },
  {
   "cell_type": "markdown",
   "metadata": {},
   "source": [
    "#### Background"
   ]
  },
  {
   "cell_type": "markdown",
   "metadata": {},
   "source": [
    "Python is an **interpreted**, **high-level**, general-purpose programming language. Created by Guido van Rossum and first released in 1991, Python's design philosophy emphasizes code readability with its notable use of significant whitespace. Its language constructs and **object-oriented** approach aim to help programmers write clear, logical code for small and large-scale projects.\n",
    "\n",
    "Source: [Wikipedia](https://en.wikipedia.org/wiki/Python_(programming_language))\n",
    "\n",
    "Definitions: \n",
    "\n",
    "**Interpreted vs Compiled** - Interpreted language will usually require some sort of instance of the program's language to run. The result is the result of the program itself. Compiled languages will need some sort of compiler and the output is usually an executable file.\n",
    "\n",
    "**High-level vs low-level** - High-level languages are languages that are usually considered to be closer to human language. The traditional trade off is that high-level languages are easier to read, script, learn but are a lot slower than low-level languages. Examples: Python, Julia, MATLAB, R, and Visual Basic, C. Low-level languages are closer to machine language and are often harder to learn and program with but have a significant increase in performance. One of the only true low-level languages is assembly(essentially the languages that computers read and understand). However, depending on your background, you may also consider C, C++, and FORTRAN to be low-level as well.\n",
    "\n",
    "Additional resources: \n",
    "\n",
    "[Compiled vs Interpreted](https://kb.iu.edu/d/agsz#:~:text=The%20difference%20between%20an%20interpreted,program%20written%20in%20assembly%20language.&text=Creating%20a%20compiled%20program%20requires%20several%20steps.)\n",
    "\n",
    "[Low-level vs High-level](https://www.geeksforgeeks.org/difference-between-high-level-and-low-level-languages/)"
   ]
  },
  {
   "cell_type": "markdown",
   "metadata": {},
   "source": [
    "#### Pros/Cons of Python\n",
    "\n",
    "| Pros | Cons |\n",
    "| ---- | ---- |\n",
    "| Easy to learn/use | Slow |\n",
    "| Widely applicable | Syntax is less intuitive compared to C, MATLAB, R, and Julia | \n",
    "| Wonderful library of packages | Package management is not as good as some other languages |\n",
    "\n"
   ]
  },
  {
   "cell_type": "markdown",
   "metadata": {},
   "source": [
    "### Syntax\n",
    "Writing python code is similar to other high-level languages. The main exception is its unique way of representing codeblocks. Instead of using end or braces, python uses a colon and indents. A method is a code block that performs a certain function. Below are examples of three different methods showing the different way blocks are defined.\n",
    "\n",
    "#### This a method in Julia\n",
    "\n",
    "function test()\n",
    "    print(\"This is a test method\")\n",
    "end\n",
    "\n",
    "#### This is a method in C\n",
    "int test( ) {\n",
    "\n",
    "  printf(\"This is a test method\");\n",
    "  return 0\n",
    "}\n",
    "#### This is a method in python\n",
    "\n",
    "def test( ):\n",
    "    print(\"This is a test method\")\n",
    "\n"
   ]
  },
  {
   "cell_type": "markdown",
   "metadata": {},
   "source": [
    "### Comments\n",
    "Comments are helpful for explaining your code or making code you are testing not register as part of the program. To make comments more readable, it is a good idea to put a space after the comment symbol and before your text.\n",
    "\n",
    "\"\"\"\n",
    "\n",
    "multi-line comment for useful for explaining what a method/function/block does\n",
    "\n",
    "add(a, b)\n",
    "takes a and b and sums them together and returns the output.\n",
    "Example: add(2, 2) = 4\n",
    "\n",
    "\"\"\"\n",
    "\n",
    "to make a single line comment, use the pound symbol, #.\n"
   ]
  },
  {
   "cell_type": "markdown",
   "metadata": {},
   "source": [
    "### Variables\n",
    "Variables are a good way to store values which can vary, repeat, or is part of an intermediate calculation. Python variables are very simple and easy to use. There is no need to specify the type when you declare them."
   ]
  },
  {
   "cell_type": "code",
   "execution_count": 1,
   "metadata": {},
   "outputs": [
    {
     "name": "stdout",
     "output_type": "stream",
     "text": [
      "88888\n"
     ]
    }
   ],
   "source": [
    "my_variable = 88888\n",
    "print(f\"{my_variable}\")"
   ]
  },
  {
   "cell_type": "markdown",
   "metadata": {},
   "source": [
    "Some things to note about variable names is that it's convention to use lower case when naming variables. It is styling convention to separate multiple words in a variable name with underscores. For example, my_account = 88888 instead of myAccount = 88888. There are also prohibitions such as starting a variable name with a number (e.g. 2b = \"or not to be\"), using white space in the name (e.g. my account = 88888), or using a reserved word (e.g. str = \"hello\"). Reserved words are base objects, types, functions already defined in the language. The word str is permanently used to represent a string type and thus cannot be used for a variable name."
   ]
  },
  {
   "cell_type": "code",
   "execution_count": 4,
   "metadata": {},
   "outputs": [
    {
     "name": "stdout",
     "output_type": "stream",
     "text": [
      "{88888, 77777, 99999}\n"
     ]
    }
   ],
   "source": [
    "# assigning multiple variables at once\n",
    "account1, account2, account3 = 88888, 99999, 77777\n",
    "print(f\"{account1, account2, account3}\")"
   ]
  },
  {
   "cell_type": "code",
   "execution_count": null,
   "metadata": {},
   "outputs": [],
   "source": [
    "# you can assign all variables to the same value\n",
    "# this is a good way to initialize variables while making your code look good\n",
    "packers = bears = giants = \"world champions\"\n",
    "print(f\"{packers, bears, giants}\")\n",
    "\n",
    "array1 = array2 = array3 = [] \n",
    "print(f\"{array1, array2, array3}\")\n",
    "\n",
    "start1 = start2 = start3 = 0\n",
    "print(f\"{start1, start2, start3}\")"
   ]
  },
  {
   "cell_type": "code",
   "execution_count": null,
   "metadata": {},
   "outputs": [],
   "source": [
    "# string concatenation is combining two or more string(i.e. text/words) together\n",
    "\n",
    "first_half = \"quick brown fox \"\n",
    "second_half = \"jumps over the sleeping dog\"\n",
    "print(f\"{first_half + second_half}\")\n",
    "\n",
    "# now let's add in the article 'the'\n",
    "article = 'The ' # *notice how double quotes or single quotes are interchangeable. \n",
    "\n",
    "first_half = article + first_half\n",
    "print(f\"{first_half + second_half}\")"
   ]
  },
  {
   "cell_type": "markdown",
   "metadata": {},
   "source": [
    "#### In-class question\n",
    "\n",
    "Fill in the color of the sky as a variable and then add the correct code to make the sentence print out"
   ]
  },
  {
   "cell_type": "code",
   "execution_count": 6,
   "metadata": {},
   "outputs": [
    {
     "name": "stdout",
     "output_type": "stream",
     "text": [
      "The sky is blue\n"
     ]
    }
   ],
   "source": [
    "sentence = \"The sky is \"\n",
    "# task 1\n",
    "color = \"blue\"\n",
    "# task 2\n",
    "print(sentence + color)"
   ]
  },
  {
   "cell_type": "markdown",
   "metadata": {},
   "source": [
    "### Data Type\n",
    "| Type | Description | Usage |\n",
    "| --- | --- | --- |\n",
    "| string | This is the only variable | Use this to store text in a variable |\n",
    "| integer | a whole number such as 1, 7, and 98 | Easier on memory than floats so use when you are only going to use whole numbers | \n",
    "| float | A number with a decimal such as 19.98 or 99.95 | Should be used when precision matters.\n",
    "|complex | These are complex numbers such as 7 + 2i or (2j for electrical engineering) | Use for computations involving complex numbers\n",
    "| list | Mutable tables/matrices/arrays | These will tax the memory more than a tuple but it can be changed dynamically\n",
    "| tuple | Immutable tables/matrices/arrays | If the list will not change values, use one of these. E.g. Teams in the XFL.\n",
    "| dict | These are dictionaries. They have a key and its associated value. | Use for key value pairs or for hashing.\n",
    "| set | These are lists but with unique values only | Use when things will only show up once.\n",
    "| bool | These are true and false values of a given input. | Use when you need to determine a binary outcome. bool(5 > 7) => False\n"
   ]
  },
  {
   "cell_type": "code",
   "execution_count": 7,
   "metadata": {},
   "outputs": [
    {
     "name": "stdout",
     "output_type": "stream",
     "text": [
      "This is a string Hello \n",
      "This is a int 7\n",
      "This is a float 7.5 \n",
      "This is a complex (7+1j)\n",
      "This is a traditional char A\n"
     ]
    }
   ],
   "source": [
    "# we are focusing on traditional\n",
    "print(f\"This is a string {'Hello'} \")\n",
    "print(f\"This is a int {7}\")\n",
    "print(f\"This is a float {7.5} \")\n",
    "print(f\"This is a complex {7 + 1j}\" )\n",
    "print(f\"This is a traditional char {'A'}\")"
   ]
  },
  {
   "cell_type": "code",
   "execution_count": null,
   "metadata": {},
   "outputs": [],
   "source": [
    "print(f\"'A' is a {type('A')}\")\n",
    "print(f\"'grey' is a {type('grey')}\")\n",
    "print(f\"1 is an {type(1)}\")\n",
    "print(f\"1.0 is a {type(1.0)}\" )\n",
    "print(f\"7 + 1j is a {type(7 + 1j)}\")\n",
    "print(f\"True is a {type(True)}\")"
   ]
  },
  {
   "cell_type": "markdown",
   "metadata": {},
   "source": [
    "### String"
   ]
  },
  {
   "cell_type": "code",
   "execution_count": null,
   "metadata": {},
   "outputs": [],
   "source": [
    "\n",
    "\"\"\" \n",
    "For printing multiple lines so that it stays within the frame of your editor\n",
    "just use three double or single quotes on either side \n",
    "\"\"\"\n",
    "text = \"\"\"\n",
    "It was the best of times, it was the worst of times, it was the age of wisdom, it was the age of foolishness, \n",
    "it was the epoch of belief, it was the epoch of incredulity, it was the season of Light, it was the season of Darkness, \n",
    "it was the spring of hope, it was the winter of despair, we had everything before us, we had nothing before us, \n",
    "we were all going direct to Heaven, we were all going direct the other way - in short, \n",
    "the period was so far like the present period, that some of its noisiest authorities insisted on its being received, \n",
    "for good or for evil, in the superlative degree of comparison only.\n",
    "\"\"\" \n",
    "\n",
    "print(f\"This is long text that is often not supported in other languages.\\n {text}\")\n"
   ]
  },
  {
   "cell_type": "code",
   "execution_count": 8,
   "metadata": {},
   "outputs": [
    {
     "name": "stdout",
     "output_type": "stream",
     "text": [
      "This grabs the first element e\n",
      "This grabs the 0th character up to the 6th character Hello,\n",
      "This grabs every other element of the string Hlo ol\n",
      "This grabs every other element of the string Hlo ol\n",
      "This prints the last letter d\n",
      "This prints the first letter H\n",
      "This is the string backward dlroW ,olleH\n"
     ]
    }
   ],
   "source": [
    "# An important part strings in python is that they can sliced into subtext\n",
    "\n",
    "\n",
    "text = \"Hello, World\"\n",
    "# grab the 2nd string of the array. Python counts starting with 0 so 1 is element 2.\n",
    "print(f\"This grabs the first element {text[1]}\")\n",
    "\"\"\"\n",
    "the colon is a quick way to generate a sequence. In this case, we are telling it to grab elements starting at 0\n",
    "and going up to but not including 6. The reason it's exclusive is because it starts at 0. We are telling it\n",
    "to grab the first 6 elements.\n",
    "\"\"\"\n",
    "print(f\"This grabs the 0th character up to the 6th character {text[0:6]}\")\n",
    "# grab every other character of our string starting with H. Notice that the space between the two words counts as a character\n",
    "print(f\"This grabs every other element of the string {text[0:len(text):2]}\")\n",
    "\n",
    "# we don't need the len(text) in there. To go the entire list, we just leave the middle part blank\n",
    "print(f\"This grabs every other element of the string {text[0::2]}\")\n",
    "\n",
    "\n",
    "# negative indices are often a nice way to traverse a string backward. \n",
    "print(f\"This prints the last letter {text[-1]}\")\n",
    "print(f\"This prints the first letter {text[-len(text)]}\") \n",
    "\n",
    "# A cool trick on how to print the reverse string in one go.\n",
    "print(f\"This is the string backward {text[::-1]}\")\n"
   ]
  },
  {
   "cell_type": "code",
   "execution_count": null,
   "metadata": {},
   "outputs": [],
   "source": [
    "# function replace\n",
    "\n",
    "# NOTE: string are static so you cannot change a letter in a word like below\n",
    "text = \"Hello, World\"\n",
    "# text[5] = \" \"\n",
    "\n",
    "# this is a work around\n",
    "print(f\" We replaced the o with a -- look! {text.replace('o', 'a')}\")\n",
    "\n",
    "\n",
    "# however, this will change all the instances. The third argument can specify the number of characters it changes \n",
    "print(f\" We replaced the first o with three a -- look! {text.replace('o', 'a', 3)}\")      \n",
    "print(f\" We replaced the first o with three a -- look! {text.replace('o', 'a', 1)}\")    "
   ]
  },
  {
   "cell_type": "markdown",
   "metadata": {},
   "source": [
    "### Booleans"
   ]
  },
  {
   "cell_type": "code",
   "execution_count": null,
   "metadata": {},
   "outputs": [],
   "source": [
    "# Booleans are types of true/false. I.e. they are types that are binary\n",
    "\n",
    "print(f\"Is 7 < 5? {7 < 5}\" )\n",
    "print(f\"Is 7 > 5? {7 > 5}\" )\n",
    "\n",
    "# most objects within python also have a boolean value associated with them.\n",
    "print(bool(7))"
   ]
  },
  {
   "cell_type": "markdown",
   "metadata": {},
   "source": [
    "## Casting"
   ]
  },
  {
   "cell_type": "code",
   "execution_count": null,
   "metadata": {},
   "outputs": [],
   "source": [
    "\"\"\"\n",
    "Sometimes, you may be reading in data from an Excel spreadsheet and the document\n",
    "reader reads in numbers as strings. The way to fix is this is to use casting.\n",
    "\"\"\"\n",
    "\n",
    "\n",
    "\n",
    "# as we know, 1 is an integer type and 1.0 is a float type.\n",
    "print(f'1 is a {type(1)}. \\n 1.0 is a {type(1.0)}')\n",
    "\n",
    "# watch as the 1 changes from a type int to a type float\n",
    "print(f'1 is a now a {type(float(1))}. \\n 1.0 is also a {type(1.0)} but now it is an {type(int(1.0))}')\n",
    "\n",
    "\n",
    "# here, we set the variable one to type string with a value of \"1\" \n",
    "one = \"1\"\n",
    "# now when we try adding them they won't work\n",
    "1 + one"
   ]
  },
  {
   "cell_type": "code",
   "execution_count": null,
   "metadata": {},
   "outputs": [],
   "source": [
    "# now let's see what happens when we cast it to a float\n",
    "print(1 + float(one))\n",
    "\n",
    "# what about casting as an int\n",
    "print(1 + int(one))\n",
    "\n",
    "# now let's try something with the string\n",
    "year = 1776\n",
    "print(\"The Declaration of Independence was sign in\" + year + \".\")\n"
   ]
  },
  {
   "cell_type": "code",
   "execution_count": null,
   "metadata": {},
   "outputs": [],
   "source": [
    "# uh oh. We cannot combine a year and string. \n",
    "\n",
    "\n",
    "# Let's cast it into a str and try that\n",
    "print(\"The Declaration of Independence was signed in \" + str(year) + \".\")"
   ]
  },
  {
   "cell_type": "markdown",
   "metadata": {},
   "source": [
    "### Operators"
   ]
  },
  {
   "cell_type": "code",
   "execution_count": null,
   "metadata": {},
   "outputs": [],
   "source": [
    "# addition\n",
    "print(2 + 2)\n",
    "# subtraction\n",
    "print(1 - 1)\n",
    "# multiplication\n",
    "print(3 * 3)\n",
    "# division\n",
    "print(27 / 3)\n",
    "# exponential\n",
    "print(3**3)\n",
    "# modulus(the remainder of a division. 7 / 3 = 2 + remainder of 1) \n",
    "print(7 % 3)\n",
    "# floor division ( division without remainder)\n",
    "print(9 // 3)\n",
    "\n",
    "print(f\"The floor {7 // 3} * 3 + {7 % 3} = 7\")\n"
   ]
  },
  {
   "cell_type": "markdown",
   "metadata": {},
   "source": [
    "## Functions"
   ]
  },
  {
   "cell_type": "code",
   "execution_count": null,
   "metadata": {},
   "outputs": [],
   "source": [
    "# Functions allow us to block code off to be easily reused\n",
    "\n",
    "\"\"\"\n",
    "isNumberOdd()\n",
    "takes in an integer and returns true if number is odd and false if it is even\n",
    "\"\"\"\n",
    "def isNumberOdd(number: int):\n",
    "    if (number % 2 == 0):\n",
    "        return(False)\n",
    "    else:\n",
    "        return(True)\n",
    "print(isNumberOdd(7))\n",
    "print(isNumberOdd(2))\n",
    "\n",
    "\n",
    "\n",
    "\n"
   ]
  },
  {
   "cell_type": "code",
   "execution_count": null,
   "metadata": {},
   "outputs": [],
   "source": [
    "def ourSum(start:int , end:int, step:int):\n",
    "    x = 0\n",
    "    while start <= end:\n",
    "        x += start\n",
    "        start += step\n",
    "    return(x)\n",
    "print(ourSum(0, 100, 1))\n"
   ]
  },
  {
   "cell_type": "code",
   "execution_count": null,
   "metadata": {},
   "outputs": [],
   "source": [
    "def ourFactorial(k: int):\n",
    "    fact = 1\n",
    "    while (k > 1):\n",
    "        fact *= k\n",
    "        k = +1 # k -= 1 would work too\n",
    "    return(fact)\n",
    "\n",
    "print(ourFactorial(4))"
   ]
  },
  {
   "cell_type": "code",
   "execution_count": null,
   "metadata": {},
   "outputs": [],
   "source": [
    "# Recursive and non-recursive functions\n",
    "# recursive is a function that calls itself\n",
    "# a non-recursive is a function which does not call itself\n",
    "def fib(n:int):\n",
    "    if n == 2:\n",
    "        return 1\n",
    "    elif n <= 1:\n",
    "        return 0\n",
    "    \n",
    "    f_1 = 0\n",
    "    f_2 = 1\n",
    "    i = 2\n",
    "    while i < n:\n",
    "        middle = f_2\n",
    "        f_2 = f_2 + f_1\n",
    "        f_1 = middle\n",
    "        i += 1\n",
    "    return(f_2)\n",
    "print(\"fib gives us this:\")\n",
    "for i in range(1,10):\n",
    "    print(fib(i))\n",
    "    "
   ]
  },
  {
   "cell_type": "code",
   "execution_count": null,
   "metadata": {},
   "outputs": [],
   "source": [
    "def fib2(n:int):\n",
    "    if n == 2:\n",
    "        return 1\n",
    "    elif n <= 1:\n",
    "        return 0\n",
    "    # this is the recursive\n",
    "    return(fib2(n - 1) + fib2(n - 2))\n",
    "print(\"fib2 gives us this:\")\n",
    "for i in range(1,10):\n",
    "    print(fib2(i))"
   ]
  },
  {
   "cell_type": "code",
   "execution_count": null,
   "metadata": {},
   "outputs": [],
   "source": []
  }
 ],
 "metadata": {
  "kernelspec": {
   "display_name": "Python 3",
   "language": "python",
   "name": "python3"
  },
  "language_info": {
   "codemirror_mode": {
    "name": "ipython",
    "version": 3
   },
   "file_extension": ".py",
   "mimetype": "text/x-python",
   "name": "python",
   "nbconvert_exporter": "python",
   "pygments_lexer": "ipython3",
   "version": "3.8.5"
  }
 },
 "nbformat": 4,
 "nbformat_minor": 2
}
