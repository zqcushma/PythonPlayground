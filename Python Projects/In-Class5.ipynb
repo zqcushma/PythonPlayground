{
 "cells": [
  {
   "cell_type": "markdown",
   "metadata": {},
   "source": [
    "## In-class5 (Statistics)"
   ]
  },
  {
   "cell_type": "markdown",
   "metadata": {},
   "source": [
    "A lecture prepared by Nathanael Judge (nzjudge@mtu.edu) M.S. Data Science, Michigan Technological University"
   ]
  },
  {
   "cell_type": "markdown",
   "metadata": {},
   "source": [
    "##### Population vs Sample\n",
    "\n",
    "Statistics attempt to provide insights into populations from smaller sample sizes. For example, if I wanted to find the average age of everyone in this class, I could individually ask everyone their age. However, if this were a class of 100 people, that will take longer. Moreover, the added data may not provide additional clarity. Instead, I could randomly ask 10 students their age and use that to estimate the true mean. If I did interview all 100 students, this would be the **population** average. If I only asked 10 students, this would be the **sample** mean."
   ]
  },
  {
   "cell_type": "markdown",
   "metadata": {},
   "source": [
    "##### Qualitative vs Quantitative Variables\n",
    "\n",
    "Qualitative: Also known as categorical, these data represent descriptions or grouping of data. If we were surveying F1 teams, some qualitative data could be who makes the engine, tires, etc. \n",
    "\n",
    "Quantitative: Also known as numeric, these are data with hard numbers. Some quantitative F1 data could be top speed and number of podium finishes."
   ]
  },
  {
   "cell_type": "markdown",
   "metadata": {},
   "source": [
    "##### Review\n",
    "\n",
    "Let's start with a review of mean, median, mode, and 5 number summary."
   ]
  },
  {
   "cell_type": "code",
   "execution_count": 1,
   "metadata": {},
   "outputs": [],
   "source": [
    "our_list = [5,6,7,27,98]"
   ]
  },
  {
   "cell_type": "code",
   "execution_count": 2,
   "metadata": {
    "scrolled": true
   },
   "outputs": [
    {
     "name": "stdout",
     "output_type": "stream",
     "text": [
      "The mean is 28.6\n",
      "The mean is 28.6\n"
     ]
    }
   ],
   "source": [
    "# mean (average): add up all values and divide by the number of values\n",
    "the_sum = 0\n",
    "for elem in our_list:\n",
    "    the_sum += elem\n",
    "print(f\"The mean is {the_sum/len(our_list)}\")\n",
    "\n",
    "# also,\n",
    "print(f\"The mean is {sum(our_list)/len(our_list)}\")"
   ]
  },
  {
   "cell_type": "code",
   "execution_count": 3,
   "metadata": {},
   "outputs": [
    {
     "name": "stdout",
     "output_type": "stream",
     "text": [
      "The index for the median is 2\n",
      "The median is 7\n",
      "The median is 7\n"
     ]
    },
    {
     "ename": "TypeError",
     "evalue": "list indices must be integers or slices, not float",
     "output_type": "error",
     "traceback": [
      "\u001b[1;31m---------------------------------------------------------------------------\u001b[0m",
      "\u001b[1;31mTypeError\u001b[0m                                 Traceback (most recent call last)",
      "\u001b[1;32md:\\Desktop\\Data Analytics Work\\Python Playground\\PythonPlayground\\Python Projects\\In-Class5.ipynb Cell 8\u001b[0m line \u001b[0;36m5\n\u001b[0;32m      <a href='vscode-notebook-cell:/d%3A/Desktop/Data%20Analytics%20Work/Python%20Playground/PythonPlayground/Python%20Projects/In-Class5.ipynb#X10sZmlsZQ%3D%3D?line=2'>3</a>\u001b[0m \u001b[39mprint\u001b[39m(\u001b[39mf\u001b[39m\u001b[39m\"\u001b[39m\u001b[39mThe median is \u001b[39m\u001b[39m{\u001b[39;00mour_list[\u001b[39mlen\u001b[39m(our_list)\u001b[39m \u001b[39m\u001b[39m/\u001b[39m\u001b[39m/\u001b[39m\u001b[39m \u001b[39m\u001b[39m2\u001b[39m]\u001b[39m}\u001b[39;00m\u001b[39m\"\u001b[39m)\n\u001b[0;32m      <a href='vscode-notebook-cell:/d%3A/Desktop/Data%20Analytics%20Work/Python%20Playground/PythonPlayground/Python%20Projects/In-Class5.ipynb#X10sZmlsZQ%3D%3D?line=3'>4</a>\u001b[0m \u001b[39mprint\u001b[39m(\u001b[39mf\u001b[39m\u001b[39m\"\u001b[39m\u001b[39mThe median is \u001b[39m\u001b[39m{\u001b[39;00mour_list[\u001b[39mint\u001b[39m(\u001b[39mlen\u001b[39m(our_list)\u001b[39m \u001b[39m\u001b[39m/\u001b[39m\u001b[39m \u001b[39m\u001b[39m2\u001b[39m)]\u001b[39m}\u001b[39;00m\u001b[39m\"\u001b[39m)\n\u001b[1;32m----> <a href='vscode-notebook-cell:/d%3A/Desktop/Data%20Analytics%20Work/Python%20Playground/PythonPlayground/Python%20Projects/In-Class5.ipynb#X10sZmlsZQ%3D%3D?line=4'>5</a>\u001b[0m \u001b[39mprint\u001b[39m(\u001b[39mf\u001b[39m\u001b[39m\"\u001b[39m\u001b[39mThe median is \u001b[39m\u001b[39m{\u001b[39;00mour_list[\u001b[39mlen\u001b[39m(our_list)\u001b[39m \u001b[39m\u001b[39m/\u001b[39m\u001b[39m \u001b[39m\u001b[39m2\u001b[39m]\u001b[39m}\u001b[39;00m\u001b[39m\"\u001b[39m)\n",
      "\u001b[1;31mTypeError\u001b[0m: list indices must be integers or slices, not float"
     ]
    }
   ],
   "source": [
    "# median: 50th percentile/middle values\n",
    "print(f\"The index for the median is {len(our_list) // 2}\")\n",
    "print(f\"The median is {our_list[len(our_list) // 2]}\")\n",
    "print(f\"The median is {our_list[int(len(our_list) / 2)]}\")\n",
    "print(f\"The median is {our_list[len(our_list) / 2]}\")"
   ]
  },
  {
   "cell_type": "code",
   "execution_count": null,
   "metadata": {},
   "outputs": [
    {
     "name": "stdout",
     "output_type": "stream",
     "text": [
      "The median is 17.0\n"
     ]
    },
    {
     "data": {
      "text/plain": [
       "[5, 6, 7, 27, 98]"
      ]
     },
     "execution_count": 11,
     "metadata": {},
     "output_type": "execute_result"
    }
   ],
   "source": [
    "# if there are an even number of elements\n",
    "our_list.append(99)\n",
    "print(f\"The median is {sum(our_list[len(our_list) // 2 - 1: len(our_list) // 2 + 1])/2}\")\n",
    "# remove the 99 to get our first list back\n",
    "our_list.remove(99)\n",
    "# Notice that jupyter notebook will return the output from the last line\n",
    "our_list"
   ]
  },
  {
   "cell_type": "markdown",
   "metadata": {},
   "source": [
    "We are going to make a function that will calculate the median based on the length of the list."
   ]
  },
  {
   "cell_type": "code",
   "execution_count": null,
   "metadata": {},
   "outputs": [],
   "source": [
    "def our_median(lst:list):\n",
    "    lst.sort( )\n",
    "    length = len(lst)\n",
    "    middle = length // 2\n",
    "    if length % 2 == 0:\n",
    "        return(sum(lst[middle - 1: middle + 1])/2)\n",
    "    else:\n",
    "        return(lst[middle])"
   ]
  },
  {
   "cell_type": "code",
   "execution_count": null,
   "metadata": {},
   "outputs": [
    {
     "name": "stdout",
     "output_type": "stream",
     "text": [
      "[3, 1, 3, 6, 9, 7, 8] has a median of 6\n",
      "[1, 2, 3, 4, 5, 6, 8, 9] has a median of 4.5\n"
     ]
    }
   ],
   "source": [
    "test1 = [3,1,3,6,9,7,8]\n",
    "test2 = [1,2,3,4,5,6,8,9]\n",
    "\n",
    "print(f\"{test1} has a median of {our_median(test1)}\")\n",
    "print(f\"{test2} has a median of {our_median(test2)}\")"
   ]
  },
  {
   "cell_type": "code",
   "execution_count": null,
   "metadata": {},
   "outputs": [],
   "source": [
    "# mode: the most frequent value\n",
    "def our_mode(lst:list):\n",
    "    temp_set = set(lst)\n",
    "    maximum = 0\n",
    "    mode = None\n",
    "    for item in temp_set:\n",
    "        test = lst.count( item )\n",
    "        if test > maximum:\n",
    "            mode = item\n",
    "            maximum = test\n",
    "    return(mode, maximum)"
   ]
  },
  {
   "cell_type": "code",
   "execution_count": null,
   "metadata": {},
   "outputs": [
    {
     "name": "stdout",
     "output_type": "stream",
     "text": [
      "The mode is 3 and it appears 2 times\n"
     ]
    }
   ],
   "source": [
    "test1 = [3,1,3,6,9,7,8]\n",
    "mode, n = our_mode(test1)\n",
    "print(f\"The mode is {mode} and it appears {n} times\")"
   ]
  },
  {
   "cell_type": "markdown",
   "metadata": {},
   "source": [
    "Another name for the median is the 50th percentile. There are 4 other closely related percentiles -- 0th, 25th, 75th, and 100th. This is called the 5 number summary. You can use this summary to determine how close your data is and if you have outliers. "
   ]
  },
  {
   "cell_type": "code",
   "execution_count": null,
   "metadata": {},
   "outputs": [],
   "source": [
    "def five_number_summary(lst:list):\n",
    "    lst.sort( )\n",
    "    length = len(lst)\n",
    "    middle = length // 2\n",
    "    Q_0 = min(lst)\n",
    "    Q_100 = max(lst)\n",
    "    Q_50 = our_median(lst)\n",
    "    if length % 2 == 0:\n",
    "        Q_25 = our_median(lst[0:middle-1])\n",
    "        Q_75 = our_median(lst[middle+1:])\n",
    "    else:\n",
    "        Q_25 = our_median(lst[0:middle])\n",
    "        Q_75 = our_median(lst[middle+1:])\n",
    "    return([Q_0, Q_25, Q_50, Q_75, Q_100])"
   ]
  },
  {
   "cell_type": "code",
   "execution_count": null,
   "metadata": {},
   "outputs": [
    {
     "name": "stdout",
     "output_type": "stream",
     "text": [
      "[1, 2, 3, 4, 5, 6, 7, 8, 9] has the following 5 number summary [1, 2.5, 5, 7.5, 9]\n",
      "[1, 2, 3, 4, 5, 6, 8, 9] has the following 5 number summary [1, 2, 4.5, 8, 9]\n",
      "[1, 2, 5, 6, 7, 9, 12, 15, 18, 19, 27] has the following 5 number summary [1, 5, 9, 18, 27]\n"
     ]
    }
   ],
   "source": [
    "test1 = list(range(1,10))\n",
    "test2 = [1,2,3,4,5,6,8,9]\n",
    "test3 = [1,2,5,6,7,9,12,15,18,19,27]\n",
    "\n",
    "print(f\"{test1} has the following 5 number summary {five_number_summary(test1)}\")\n",
    "print(f\"{test2} has the following 5 number summary {five_number_summary(test2)}\")\n",
    "print(f\"{test3} has the following 5 number summary {five_number_summary(test3)}\")"
   ]
  },
  {
   "cell_type": "markdown",
   "metadata": {},
   "source": [
    "##### Now with packages\n",
    "\n",
    "While implementing these formulae ourselves can beneficial, python has a lot of this implemented in the packages numpy, scipy, and statistics."
   ]
  },
  {
   "cell_type": "code",
   "execution_count": null,
   "metadata": {},
   "outputs": [],
   "source": [
    "import numpy as np\n",
    "import scipy as sp\n",
    "import statistics as stat"
   ]
  },
  {
   "cell_type": "code",
   "execution_count": null,
   "metadata": {},
   "outputs": [
    {
     "name": "stdout",
     "output_type": "stream",
     "text": [
      "Five number summary [1.     1.0275 1.055  1.0825 1.11  ]\n",
      "Median is 10.5\n",
      "Mode is 27\n",
      "Mean is 12.333333333333334\n",
      "Median is 10.5\n",
      "Mean is 12.333333333333334\n"
     ]
    }
   ],
   "source": [
    "test = [1,2,5,6,7,9,12,15,18,19,27,27]\n",
    "quartiles = np.percentile(test, [0, 0.25, 0.5, 0.75, 1])\n",
    "print(f\"Five number summary {quartiles}\")\n",
    "print(f\"Median is {stat.median(test)}\")\n",
    "# throws an error if mode is not unique\n",
    "print(f\"Mode is {stat.mode(test)}\")\n",
    "print(f\"Mean is {stat.mean(test)}\")\n",
    "print(f\"Median is {np.median(test)}\")\n",
    "print(f\"Mean is {np.mean(test)}\")"
   ]
  },
  {
   "cell_type": "markdown",
   "metadata": {},
   "source": [
    "##### Stock Analysis\n",
    "\n",
    "We are going to calculate the $R^2$ and correlation between stocks\n",
    "\n",
    "Formulae:\n",
    "\n",
    "deviations: $ X_i - \\mu_x $. The difference between a given observation and then mean of the group\n",
    "\n",
    "variance: $ \\frac{\\sum (X_i - \\mu_x)^2}{n - 1} $. Average squared distance from a given observation to the mean of the group\n",
    "\n",
    "standard deviation, s $=\\sqrt{\\text{variance}}$. Average distance from a given observation to the mean of the group\n",
    "\n",
    "covariance: $ \\frac{\\sum (X_i - \\mu_x) \\cdot (Y_i - \\mu_y)}{n - 1} $. This describes how much two different groups will deviate from their mean in the same way.\n",
    "\n",
    "correlation(x,y) = $\\frac{\\text{covariance(x,y)}}{\\text{s_x} \\cdot \\text{s_y}} $. This is covariance but scaled/normalized. Must be a value between -1 and 1\n",
    "\n",
    "$R^2 = \\text{correlation(x,y)}^2$. This tells you the percent of variance in x's data predictable by y and vice versa."
   ]
  },
  {
   "cell_type": "code",
   "execution_count": null,
   "metadata": {},
   "outputs": [],
   "source": [
    "import pandas_datareader as pdr\n",
    "import pandas as pd\n",
    "import numpy as np\n",
    "data = pdr.DataReader([\"amzn\", \"f\",\"aapl\", \"tsla\", \"mrna\", 'tri', 'xom', 'bac'], data_source = 'yahoo', start = '2019-01-01', end = '2020-08-17')"
   ]
  },
  {
   "cell_type": "code",
   "execution_count": null,
   "metadata": {},
   "outputs": [
    {
     "name": "stdout",
     "output_type": "stream",
     "text": [
      "The type of data is <class 'pandas.core.frame.DataFrame'>\n",
      "The columns are MultiIndex([('Adj Close', 'amzn'),\n",
      "            ('Adj Close',    'f'),\n",
      "            ('Adj Close', 'aapl'),\n",
      "            ('Adj Close', 'tsla'),\n",
      "            ('Adj Close', 'mrna'),\n",
      "            ('Adj Close',  'tri'),\n",
      "            ('Adj Close',  'xom'),\n",
      "            ('Adj Close',  'bac'),\n",
      "            (    'Close', 'amzn'),\n",
      "            (    'Close',    'f'),\n",
      "            (    'Close', 'aapl'),\n",
      "            (    'Close', 'tsla'),\n",
      "            (    'Close', 'mrna'),\n",
      "            (    'Close',  'tri'),\n",
      "            (    'Close',  'xom'),\n",
      "            (    'Close',  'bac'),\n",
      "            (     'High', 'amzn'),\n",
      "            (     'High',    'f'),\n",
      "            (     'High', 'aapl'),\n",
      "            (     'High', 'tsla'),\n",
      "            (     'High', 'mrna'),\n",
      "            (     'High',  'tri'),\n",
      "            (     'High',  'xom'),\n",
      "            (     'High',  'bac'),\n",
      "            (      'Low', 'amzn'),\n",
      "            (      'Low',    'f'),\n",
      "            (      'Low', 'aapl'),\n",
      "            (      'Low', 'tsla'),\n",
      "            (      'Low', 'mrna'),\n",
      "            (      'Low',  'tri'),\n",
      "            (      'Low',  'xom'),\n",
      "            (      'Low',  'bac'),\n",
      "            (     'Open', 'amzn'),\n",
      "            (     'Open',    'f'),\n",
      "            (     'Open', 'aapl'),\n",
      "            (     'Open', 'tsla'),\n",
      "            (     'Open', 'mrna'),\n",
      "            (     'Open',  'tri'),\n",
      "            (     'Open',  'xom'),\n",
      "            (     'Open',  'bac'),\n",
      "            (   'Volume', 'amzn'),\n",
      "            (   'Volume',    'f'),\n",
      "            (   'Volume', 'aapl'),\n",
      "            (   'Volume', 'tsla'),\n",
      "            (   'Volume', 'mrna'),\n",
      "            (   'Volume',  'tri'),\n",
      "            (   'Volume',  'xom'),\n",
      "            (   'Volume',  'bac')],\n",
      "           names=['Attributes', 'Symbols'])\n",
      "Type of columns <class 'tuple'>\n"
     ]
    }
   ],
   "source": [
    "print(f\"The type of data is {type(data)}\")\n",
    "print(f\"The columns are {data.columns}\")\n",
    "print(f\"Type of columns {type(data.columns[0])}\")"
   ]
  },
  {
   "cell_type": "code",
   "execution_count": null,
   "metadata": {},
   "outputs": [],
   "source": [
    "small_data = data[[(    'Close', 'amzn'),\n",
    "            (    'Close',    'f'),\n",
    "            (    'Close', 'aapl'),\n",
    "            (    'Close', 'tsla'),\n",
    "            (    'Close', 'mrna'),\n",
    "            (    'Close',  'tri'), \n",
    "            (    'Close',  'xom'),\n",
    "            (    'Close',  'bac')]]\n",
    "small_data.columns = ['Amazon', 'Ford', 'Apple', 'Tesla', 'Moderna', 'Thomson Reuters', 'Exxon Mobile', 'Bank of America'] "
   ]
  },
  {
   "cell_type": "code",
   "execution_count": null,
   "metadata": {},
   "outputs": [
    {
     "name": "stdout",
     "output_type": "stream",
     "text": [
      "Means is a <class 'pandas.core.series.Series'>\n"
     ]
    },
    {
     "data": {
      "text/plain": [
       "Amazon             2012.177609\n",
       "Ford                  8.199976\n",
       "Apple                63.164213\n",
       "Tesla               101.259834\n",
       "Moderna              28.929695\n",
       "Thomson Reuters      66.256219\n",
       "Exxon Mobile         64.059439\n",
       "Bank of America      28.318171\n",
       "dtype: float64"
      ]
     },
     "execution_count": 23,
     "metadata": {},
     "output_type": "execute_result"
    }
   ],
   "source": [
    "means = small_data.mean( axis = 0 )\n",
    "print(f\"Means is a {type(means)}\")\n",
    "means"
   ]
  },
  {
   "cell_type": "code",
   "execution_count": null,
   "metadata": {},
   "outputs": [
    {
     "name": "stdout",
     "output_type": "stream",
     "text": [
      "The price of amazon on 2019-01-02 00:00:00 was 1539.1300048828125\n",
      "The the mean price of amazon throughout this from 2019-01-02 00:00:00 to 2020-08-17 00:00:00 was 2012.1776090296303\n",
      "The deviation is -473.0476041468178\n"
     ]
    }
   ],
   "source": [
    "print(f\"The price of amazon on {small_data.index[0]} was {small_data.iloc[0,0]}\")\n",
    "print(f\"The the mean price of amazon throughout this from {small_data.index[0]} to {small_data.index[-1]} was {means[0]}\" )\n",
    "print(f\"The deviation is {small_data.iloc[0,0] - means[0]}\")"
   ]
  },
  {
   "cell_type": "code",
   "execution_count": null,
   "metadata": {},
   "outputs": [],
   "source": [
    "# this provides the number of row and columns of a dataframe/array \n",
    "m, n = small_data.shape\n",
    "\n",
    "deviations = np.array(small_data - means)"
   ]
  },
  {
   "cell_type": "code",
   "execution_count": null,
   "metadata": {},
   "outputs": [
    {
     "name": "stdout",
     "output_type": "stream",
     "text": [
      "The shape is (410, 8)\n"
     ]
    },
    {
     "data": {
      "text/plain": [
       "array([[-4.73047604e+02, -2.99975510e-01, -2.36842138e+01, ...,\n",
       "        -1.86962181e+01,  5.63056348e+00, -3.35817163e+00],\n",
       "       [-5.11897580e+02, -4.19975396e-01, -2.76167127e+01, ...,\n",
       "        -1.93862206e+01,  4.56056378e+00, -3.75817125e+00],\n",
       "       [-4.36787594e+02, -1.19975682e-01, -2.60992147e+01, ...,\n",
       "        -1.86462189e+01,  7.09056256e+00, -2.73817079e+00],\n",
       "       ...,\n",
       "       [ 1.14884241e+03, -1.16997540e+00,  5.18457888e+01, ...,\n",
       "         9.01377715e+00, -2.10494406e+01, -1.96817033e+00],\n",
       "       [ 1.13584241e+03, -1.15997564e+00,  5.17432879e+01, ...,\n",
       "         8.90378417e+00, -2.08594382e+01, -1.84817140e+00],\n",
       "       [ 1.17023230e+03, -1.21997559e+00,  5.14432848e+01, ...,\n",
       "         9.05377807e+00, -2.14194396e+01, -2.41817110e+00]])"
      ]
     },
     "execution_count": 26,
     "metadata": {},
     "output_type": "execute_result"
    }
   ],
   "source": [
    "print(f\"The shape is {deviations.shape}\")\n",
    "deviations"
   ]
  },
  {
   "cell_type": "code",
   "execution_count": null,
   "metadata": {},
   "outputs": [],
   "source": [
    "cov = np.zeros((n,n))\n",
    "# for every company\n",
    "for j in range(n):\n",
    "    # compare to every other company\n",
    "    for i in range(n):\n",
    "        cov[i,j] = sum(deviations[:,i] * deviations[:,j])/(m - 1)\n",
    "        "
   ]
  },
  {
   "cell_type": "code",
   "execution_count": null,
   "metadata": {},
   "outputs": [
    {
     "name": "stdout",
     "output_type": "stream",
     "text": [
      "(8, 8)\n"
     ]
    },
    {
     "data": {
      "text/plain": [
       "array([[ 1.65369631e+05, -3.75451889e+02,  6.08532352e+03,\n",
       "         2.80075134e+04,  7.29128993e+03,  1.16798483e+03,\n",
       "        -4.02644167e+03, -6.93779635e+02],\n",
       "       [-3.75451889e+02,  2.75989407e+00, -1.59128700e+01,\n",
       "        -7.84164025e+01, -2.20876619e+01, -1.40896062e+00,\n",
       "         2.14293884e+01,  4.64961136e+00],\n",
       "       [ 6.08532352e+03, -1.59128700e+01,  3.09651204e+02,\n",
       "         1.17069918e+03,  2.66022049e+02,  8.97315193e+01,\n",
       "        -1.81968575e+02, -9.66873740e+00],\n",
       "       [ 2.80075134e+04, -7.84164025e+01,  1.17069918e+03,\n",
       "         5.45267781e+03,  1.28083290e+03,  2.26735534e+02,\n",
       "        -7.99287813e+02, -1.06314988e+02],\n",
       "       [ 7.29128993e+03, -2.20876619e+01,  2.66022049e+02,\n",
       "         1.28083290e+03,  3.76879759e+02,  3.08274585e+01,\n",
       "        -2.04065624e+02, -4.19898324e+01],\n",
       "       [ 1.16798483e+03, -1.40896062e+00,  8.97315193e+01,\n",
       "         2.26735534e+02,  3.08274585e+01,  5.58709657e+01,\n",
       "        -3.82889147e+01,  7.99396314e+00],\n",
       "       [-4.02644167e+03,  2.14293884e+01, -1.81968575e+02,\n",
       "        -7.99287813e+02, -2.04065624e+02, -3.82889147e+01,\n",
       "         1.98488948e+02,  3.51944821e+01],\n",
       "       [-6.93779635e+02,  4.64961136e+00, -9.66873740e+00,\n",
       "        -1.06314988e+02, -4.19898324e+01,  7.99396314e+00,\n",
       "         3.51944821e+01,  1.44588022e+01]])"
      ]
     },
     "execution_count": 28,
     "metadata": {},
     "output_type": "execute_result"
    }
   ],
   "source": [
    "print(cov.shape)\n",
    "cov"
   ]
  },
  {
   "cell_type": "code",
   "execution_count": null,
   "metadata": {},
   "outputs": [
    {
     "name": "stdout",
     "output_type": "stream",
     "text": [
      "(8,)\n"
     ]
    },
    {
     "data": {
      "text/plain": [
       "array([1.65369631e+05, 2.75989407e+00, 3.09651204e+02, 5.45267781e+03,\n",
       "       3.76879759e+02, 5.58709657e+01, 1.98488948e+02, 1.44588022e+01])"
      ]
     },
     "execution_count": 29,
     "metadata": {},
     "output_type": "execute_result"
    }
   ],
   "source": [
    "var = ((deviations * deviations).sum(axis = 0))/ ( m - 1 )\n",
    "print(var.shape)\n",
    "var"
   ]
  },
  {
   "cell_type": "code",
   "execution_count": null,
   "metadata": {},
   "outputs": [],
   "source": [
    "std = var**(0.5)"
   ]
  },
  {
   "cell_type": "code",
   "execution_count": null,
   "metadata": {},
   "outputs": [
    {
     "data": {
      "text/plain": [
       "array([406.6566496 ,   1.66129289,  17.59690894,  73.84224947,\n",
       "        19.41339124,   7.47468834,  14.08861057,   3.80247316])"
      ]
     },
     "execution_count": 31,
     "metadata": {},
     "output_type": "execute_result"
    }
   ],
   "source": [
    "std"
   ]
  },
  {
   "cell_type": "code",
   "execution_count": null,
   "metadata": {},
   "outputs": [],
   "source": [
    "P_xy = np.zeros((n,n))\n",
    "for j in range(n):\n",
    "    for i in range(n):\n",
    "        # correlation between amazon and amazon is perfect\n",
    "        if i == j:\n",
    "            P_xy[i,j] = 1\n",
    "            continue\n",
    "        P_xy[i,j] = cov[i,j] / (std[i] * std[j])"
   ]
  },
  {
   "cell_type": "code",
   "execution_count": null,
   "metadata": {},
   "outputs": [],
   "source": [
    "P_xy = pd.DataFrame(P_xy, index = ['Amazon', 'Ford', 'Apple', 'Tesla', 'Moderna', 'Thomson Reuters', 'Exxon Mobile', 'Bank of America'] , columns = ['Amazon', 'Ford', 'Apple', 'Tesla', 'Moderna', 'Thomson Reuters', 'Exxon Mobile', 'Bank of America']  )\n",
    "R_squared =  P_xy**2"
   ]
  },
  {
   "cell_type": "code",
   "execution_count": null,
   "metadata": {},
   "outputs": [
    {
     "data": {
      "text/html": [
       "<div>\n",
       "<style scoped>\n",
       "    .dataframe tbody tr th:only-of-type {\n",
       "        vertical-align: middle;\n",
       "    }\n",
       "\n",
       "    .dataframe tbody tr th {\n",
       "        vertical-align: top;\n",
       "    }\n",
       "\n",
       "    .dataframe thead th {\n",
       "        text-align: right;\n",
       "    }\n",
       "</style>\n",
       "<table border=\"1\" class=\"dataframe\">\n",
       "  <thead>\n",
       "    <tr style=\"text-align: right;\">\n",
       "      <th></th>\n",
       "      <th>Amazon</th>\n",
       "      <th>Ford</th>\n",
       "      <th>Apple</th>\n",
       "      <th>Tesla</th>\n",
       "      <th>Moderna</th>\n",
       "      <th>Thomson Reuters</th>\n",
       "      <th>Exxon Mobile</th>\n",
       "      <th>Bank of America</th>\n",
       "    </tr>\n",
       "  </thead>\n",
       "  <tbody>\n",
       "    <tr>\n",
       "      <th>Amazon</th>\n",
       "      <td>1.000000</td>\n",
       "      <td>-0.555751</td>\n",
       "      <td>0.850392</td>\n",
       "      <td>0.932700</td>\n",
       "      <td>0.923581</td>\n",
       "      <td>0.384252</td>\n",
       "      <td>-0.702790</td>\n",
       "      <td>-0.448670</td>\n",
       "    </tr>\n",
       "    <tr>\n",
       "      <th>Ford</th>\n",
       "      <td>-0.555751</td>\n",
       "      <td>1.000000</td>\n",
       "      <td>-0.544335</td>\n",
       "      <td>-0.639228</td>\n",
       "      <td>-0.684861</td>\n",
       "      <td>-0.113464</td>\n",
       "      <td>0.915578</td>\n",
       "      <td>0.736045</td>\n",
       "    </tr>\n",
       "    <tr>\n",
       "      <th>Apple</th>\n",
       "      <td>0.850392</td>\n",
       "      <td>-0.544335</td>\n",
       "      <td>1.000000</td>\n",
       "      <td>0.900957</td>\n",
       "      <td>0.778717</td>\n",
       "      <td>0.682206</td>\n",
       "      <td>-0.733993</td>\n",
       "      <td>-0.144500</td>\n",
       "    </tr>\n",
       "    <tr>\n",
       "      <th>Tesla</th>\n",
       "      <td>0.932700</td>\n",
       "      <td>-0.639228</td>\n",
       "      <td>0.900957</td>\n",
       "      <td>1.000000</td>\n",
       "      <td>0.893483</td>\n",
       "      <td>0.410792</td>\n",
       "      <td>-0.768299</td>\n",
       "      <td>-0.378637</td>\n",
       "    </tr>\n",
       "    <tr>\n",
       "      <th>Moderna</th>\n",
       "      <td>0.923581</td>\n",
       "      <td>-0.684861</td>\n",
       "      <td>0.778717</td>\n",
       "      <td>0.893483</td>\n",
       "      <td>1.000000</td>\n",
       "      <td>0.212443</td>\n",
       "      <td>-0.746106</td>\n",
       "      <td>-0.568822</td>\n",
       "    </tr>\n",
       "    <tr>\n",
       "      <th>Thomson Reuters</th>\n",
       "      <td>0.384252</td>\n",
       "      <td>-0.113464</td>\n",
       "      <td>0.682206</td>\n",
       "      <td>0.410792</td>\n",
       "      <td>0.212443</td>\n",
       "      <td>1.000000</td>\n",
       "      <td>-0.363590</td>\n",
       "      <td>0.281257</td>\n",
       "    </tr>\n",
       "    <tr>\n",
       "      <th>Exxon Mobile</th>\n",
       "      <td>-0.702790</td>\n",
       "      <td>0.915578</td>\n",
       "      <td>-0.733993</td>\n",
       "      <td>-0.768299</td>\n",
       "      <td>-0.746106</td>\n",
       "      <td>-0.363590</td>\n",
       "      <td>1.000000</td>\n",
       "      <td>0.656962</td>\n",
       "    </tr>\n",
       "    <tr>\n",
       "      <th>Bank of America</th>\n",
       "      <td>-0.448670</td>\n",
       "      <td>0.736045</td>\n",
       "      <td>-0.144500</td>\n",
       "      <td>-0.378637</td>\n",
       "      <td>-0.568822</td>\n",
       "      <td>0.281257</td>\n",
       "      <td>0.656962</td>\n",
       "      <td>1.000000</td>\n",
       "    </tr>\n",
       "  </tbody>\n",
       "</table>\n",
       "</div>"
      ],
      "text/plain": [
       "                   Amazon      Ford     Apple     Tesla   Moderna  \\\n",
       "Amazon           1.000000 -0.555751  0.850392  0.932700  0.923581   \n",
       "Ford            -0.555751  1.000000 -0.544335 -0.639228 -0.684861   \n",
       "Apple            0.850392 -0.544335  1.000000  0.900957  0.778717   \n",
       "Tesla            0.932700 -0.639228  0.900957  1.000000  0.893483   \n",
       "Moderna          0.923581 -0.684861  0.778717  0.893483  1.000000   \n",
       "Thomson Reuters  0.384252 -0.113464  0.682206  0.410792  0.212443   \n",
       "Exxon Mobile    -0.702790  0.915578 -0.733993 -0.768299 -0.746106   \n",
       "Bank of America -0.448670  0.736045 -0.144500 -0.378637 -0.568822   \n",
       "\n",
       "                 Thomson Reuters  Exxon Mobile  Bank of America  \n",
       "Amazon                  0.384252     -0.702790        -0.448670  \n",
       "Ford                   -0.113464      0.915578         0.736045  \n",
       "Apple                   0.682206     -0.733993        -0.144500  \n",
       "Tesla                   0.410792     -0.768299        -0.378637  \n",
       "Moderna                 0.212443     -0.746106        -0.568822  \n",
       "Thomson Reuters         1.000000     -0.363590         0.281257  \n",
       "Exxon Mobile           -0.363590      1.000000         0.656962  \n",
       "Bank of America         0.281257      0.656962         1.000000  "
      ]
     },
     "execution_count": 34,
     "metadata": {},
     "output_type": "execute_result"
    }
   ],
   "source": [
    "P_xy"
   ]
  },
  {
   "cell_type": "code",
   "execution_count": null,
   "metadata": {},
   "outputs": [
    {
     "data": {
      "text/html": [
       "<div>\n",
       "<style scoped>\n",
       "    .dataframe tbody tr th:only-of-type {\n",
       "        vertical-align: middle;\n",
       "    }\n",
       "\n",
       "    .dataframe tbody tr th {\n",
       "        vertical-align: top;\n",
       "    }\n",
       "\n",
       "    .dataframe thead th {\n",
       "        text-align: right;\n",
       "    }\n",
       "</style>\n",
       "<table border=\"1\" class=\"dataframe\">\n",
       "  <thead>\n",
       "    <tr style=\"text-align: right;\">\n",
       "      <th></th>\n",
       "      <th>Amazon</th>\n",
       "      <th>Ford</th>\n",
       "      <th>Apple</th>\n",
       "      <th>Tesla</th>\n",
       "      <th>Moderna</th>\n",
       "      <th>Thomson Reuters</th>\n",
       "      <th>Exxon Mobile</th>\n",
       "      <th>Bank of America</th>\n",
       "    </tr>\n",
       "  </thead>\n",
       "  <tbody>\n",
       "    <tr>\n",
       "      <th>Amazon</th>\n",
       "      <td>1.000000</td>\n",
       "      <td>0.308859</td>\n",
       "      <td>0.723167</td>\n",
       "      <td>0.869928</td>\n",
       "      <td>0.853002</td>\n",
       "      <td>0.147650</td>\n",
       "      <td>0.493913</td>\n",
       "      <td>0.201305</td>\n",
       "    </tr>\n",
       "    <tr>\n",
       "      <th>Ford</th>\n",
       "      <td>0.308859</td>\n",
       "      <td>1.000000</td>\n",
       "      <td>0.296300</td>\n",
       "      <td>0.408612</td>\n",
       "      <td>0.469034</td>\n",
       "      <td>0.012874</td>\n",
       "      <td>0.838283</td>\n",
       "      <td>0.541762</td>\n",
       "    </tr>\n",
       "    <tr>\n",
       "      <th>Apple</th>\n",
       "      <td>0.723167</td>\n",
       "      <td>0.296300</td>\n",
       "      <td>1.000000</td>\n",
       "      <td>0.811723</td>\n",
       "      <td>0.606401</td>\n",
       "      <td>0.465405</td>\n",
       "      <td>0.538746</td>\n",
       "      <td>0.020880</td>\n",
       "    </tr>\n",
       "    <tr>\n",
       "      <th>Tesla</th>\n",
       "      <td>0.869928</td>\n",
       "      <td>0.408612</td>\n",
       "      <td>0.811723</td>\n",
       "      <td>1.000000</td>\n",
       "      <td>0.798311</td>\n",
       "      <td>0.168750</td>\n",
       "      <td>0.590283</td>\n",
       "      <td>0.143366</td>\n",
       "    </tr>\n",
       "    <tr>\n",
       "      <th>Moderna</th>\n",
       "      <td>0.853002</td>\n",
       "      <td>0.469034</td>\n",
       "      <td>0.606401</td>\n",
       "      <td>0.798311</td>\n",
       "      <td>1.000000</td>\n",
       "      <td>0.045132</td>\n",
       "      <td>0.556674</td>\n",
       "      <td>0.323559</td>\n",
       "    </tr>\n",
       "    <tr>\n",
       "      <th>Thomson Reuters</th>\n",
       "      <td>0.147650</td>\n",
       "      <td>0.012874</td>\n",
       "      <td>0.465405</td>\n",
       "      <td>0.168750</td>\n",
       "      <td>0.045132</td>\n",
       "      <td>1.000000</td>\n",
       "      <td>0.132198</td>\n",
       "      <td>0.079105</td>\n",
       "    </tr>\n",
       "    <tr>\n",
       "      <th>Exxon Mobile</th>\n",
       "      <td>0.493913</td>\n",
       "      <td>0.838283</td>\n",
       "      <td>0.538746</td>\n",
       "      <td>0.590283</td>\n",
       "      <td>0.556674</td>\n",
       "      <td>0.132198</td>\n",
       "      <td>1.000000</td>\n",
       "      <td>0.431599</td>\n",
       "    </tr>\n",
       "    <tr>\n",
       "      <th>Bank of America</th>\n",
       "      <td>0.201305</td>\n",
       "      <td>0.541762</td>\n",
       "      <td>0.020880</td>\n",
       "      <td>0.143366</td>\n",
       "      <td>0.323559</td>\n",
       "      <td>0.079105</td>\n",
       "      <td>0.431599</td>\n",
       "      <td>1.000000</td>\n",
       "    </tr>\n",
       "  </tbody>\n",
       "</table>\n",
       "</div>"
      ],
      "text/plain": [
       "                   Amazon      Ford     Apple     Tesla   Moderna  \\\n",
       "Amazon           1.000000  0.308859  0.723167  0.869928  0.853002   \n",
       "Ford             0.308859  1.000000  0.296300  0.408612  0.469034   \n",
       "Apple            0.723167  0.296300  1.000000  0.811723  0.606401   \n",
       "Tesla            0.869928  0.408612  0.811723  1.000000  0.798311   \n",
       "Moderna          0.853002  0.469034  0.606401  0.798311  1.000000   \n",
       "Thomson Reuters  0.147650  0.012874  0.465405  0.168750  0.045132   \n",
       "Exxon Mobile     0.493913  0.838283  0.538746  0.590283  0.556674   \n",
       "Bank of America  0.201305  0.541762  0.020880  0.143366  0.323559   \n",
       "\n",
       "                 Thomson Reuters  Exxon Mobile  Bank of America  \n",
       "Amazon                  0.147650      0.493913         0.201305  \n",
       "Ford                    0.012874      0.838283         0.541762  \n",
       "Apple                   0.465405      0.538746         0.020880  \n",
       "Tesla                   0.168750      0.590283         0.143366  \n",
       "Moderna                 0.045132      0.556674         0.323559  \n",
       "Thomson Reuters         1.000000      0.132198         0.079105  \n",
       "Exxon Mobile            0.132198      1.000000         0.431599  \n",
       "Bank of America         0.079105      0.431599         1.000000  "
      ]
     },
     "execution_count": 35,
     "metadata": {},
     "output_type": "execute_result"
    }
   ],
   "source": [
    "R_squared"
   ]
  },
  {
   "cell_type": "markdown",
   "metadata": {},
   "source": [
    "###### Now as a function"
   ]
  },
  {
   "cell_type": "code",
   "execution_count": null,
   "metadata": {},
   "outputs": [],
   "source": [
    "def stock_correlation(companies:tuple, start_date:str, end_date:str ):\n",
    "    data = pdr.DataReader(companies, data_source = 'yahoo', start = start_date, end = end_date)\n",
    "    column_list = []\n",
    "    for company in companies:\n",
    "        column_list.append(('Close', str(company)))\n",
    "    small_data = data[column_list]\n",
    "    small_data.columns = companies\n",
    "    means = small_data.mean( axis = 0 )\n",
    "    m, n = small_data.shape\n",
    "    deviations = np.array(small_data - means)\n",
    "    cov = np.zeros((n,n))\n",
    "    for j in range(n):\n",
    "        for i in range(n):\n",
    "            cov[i,j] = sum(deviations[:,i] * deviations[:,j])/(m - 1)\n",
    "    var = ((deviations * deviations).sum(axis = 0))/ ( m -1 )\n",
    "    std = var**(0.5)\n",
    "    P_xy = np.zeros((n,n))\n",
    "    for j in range(n):\n",
    "        for i in range(n):\n",
    "            if i == j:\n",
    "                P_xy[i,j] = 1\n",
    "                continue\n",
    "            P_xy[i,j] = cov[i,j] / (std[i] * std[j])\n",
    "    return(pd.DataFrame(P_xy, index = companies, columns = companies))"
   ]
  },
  {
   "cell_type": "code",
   "execution_count": null,
   "metadata": {},
   "outputs": [
    {
     "data": {
      "text/html": [
       "<div>\n",
       "<style scoped>\n",
       "    .dataframe tbody tr th:only-of-type {\n",
       "        vertical-align: middle;\n",
       "    }\n",
       "\n",
       "    .dataframe tbody tr th {\n",
       "        vertical-align: top;\n",
       "    }\n",
       "\n",
       "    .dataframe thead th {\n",
       "        text-align: right;\n",
       "    }\n",
       "</style>\n",
       "<table border=\"1\" class=\"dataframe\">\n",
       "  <thead>\n",
       "    <tr style=\"text-align: right;\">\n",
       "      <th></th>\n",
       "      <th>amzn</th>\n",
       "      <th>f</th>\n",
       "      <th>aapl</th>\n",
       "      <th>tsla</th>\n",
       "      <th>mrna</th>\n",
       "      <th>tri</th>\n",
       "      <th>xom</th>\n",
       "      <th>bac</th>\n",
       "    </tr>\n",
       "  </thead>\n",
       "  <tbody>\n",
       "    <tr>\n",
       "      <th>amzn</th>\n",
       "      <td>1.000000</td>\n",
       "      <td>-0.555751</td>\n",
       "      <td>0.850392</td>\n",
       "      <td>0.932700</td>\n",
       "      <td>0.923581</td>\n",
       "      <td>0.384252</td>\n",
       "      <td>-0.702790</td>\n",
       "      <td>-0.448670</td>\n",
       "    </tr>\n",
       "    <tr>\n",
       "      <th>f</th>\n",
       "      <td>-0.555751</td>\n",
       "      <td>1.000000</td>\n",
       "      <td>-0.544335</td>\n",
       "      <td>-0.639228</td>\n",
       "      <td>-0.684861</td>\n",
       "      <td>-0.113464</td>\n",
       "      <td>0.915578</td>\n",
       "      <td>0.736045</td>\n",
       "    </tr>\n",
       "    <tr>\n",
       "      <th>aapl</th>\n",
       "      <td>0.850392</td>\n",
       "      <td>-0.544335</td>\n",
       "      <td>1.000000</td>\n",
       "      <td>0.900957</td>\n",
       "      <td>0.778717</td>\n",
       "      <td>0.682206</td>\n",
       "      <td>-0.733993</td>\n",
       "      <td>-0.144500</td>\n",
       "    </tr>\n",
       "    <tr>\n",
       "      <th>tsla</th>\n",
       "      <td>0.932700</td>\n",
       "      <td>-0.639228</td>\n",
       "      <td>0.900957</td>\n",
       "      <td>1.000000</td>\n",
       "      <td>0.893483</td>\n",
       "      <td>0.410792</td>\n",
       "      <td>-0.768299</td>\n",
       "      <td>-0.378637</td>\n",
       "    </tr>\n",
       "    <tr>\n",
       "      <th>mrna</th>\n",
       "      <td>0.923581</td>\n",
       "      <td>-0.684861</td>\n",
       "      <td>0.778717</td>\n",
       "      <td>0.893483</td>\n",
       "      <td>1.000000</td>\n",
       "      <td>0.212443</td>\n",
       "      <td>-0.746106</td>\n",
       "      <td>-0.568822</td>\n",
       "    </tr>\n",
       "    <tr>\n",
       "      <th>tri</th>\n",
       "      <td>0.384252</td>\n",
       "      <td>-0.113464</td>\n",
       "      <td>0.682206</td>\n",
       "      <td>0.410792</td>\n",
       "      <td>0.212443</td>\n",
       "      <td>1.000000</td>\n",
       "      <td>-0.363590</td>\n",
       "      <td>0.281257</td>\n",
       "    </tr>\n",
       "    <tr>\n",
       "      <th>xom</th>\n",
       "      <td>-0.702790</td>\n",
       "      <td>0.915578</td>\n",
       "      <td>-0.733993</td>\n",
       "      <td>-0.768299</td>\n",
       "      <td>-0.746106</td>\n",
       "      <td>-0.363590</td>\n",
       "      <td>1.000000</td>\n",
       "      <td>0.656962</td>\n",
       "    </tr>\n",
       "    <tr>\n",
       "      <th>bac</th>\n",
       "      <td>-0.448670</td>\n",
       "      <td>0.736045</td>\n",
       "      <td>-0.144500</td>\n",
       "      <td>-0.378637</td>\n",
       "      <td>-0.568822</td>\n",
       "      <td>0.281257</td>\n",
       "      <td>0.656962</td>\n",
       "      <td>1.000000</td>\n",
       "    </tr>\n",
       "  </tbody>\n",
       "</table>\n",
       "</div>"
      ],
      "text/plain": [
       "          amzn         f      aapl      tsla      mrna       tri       xom  \\\n",
       "amzn  1.000000 -0.555751  0.850392  0.932700  0.923581  0.384252 -0.702790   \n",
       "f    -0.555751  1.000000 -0.544335 -0.639228 -0.684861 -0.113464  0.915578   \n",
       "aapl  0.850392 -0.544335  1.000000  0.900957  0.778717  0.682206 -0.733993   \n",
       "tsla  0.932700 -0.639228  0.900957  1.000000  0.893483  0.410792 -0.768299   \n",
       "mrna  0.923581 -0.684861  0.778717  0.893483  1.000000  0.212443 -0.746106   \n",
       "tri   0.384252 -0.113464  0.682206  0.410792  0.212443  1.000000 -0.363590   \n",
       "xom  -0.702790  0.915578 -0.733993 -0.768299 -0.746106 -0.363590  1.000000   \n",
       "bac  -0.448670  0.736045 -0.144500 -0.378637 -0.568822  0.281257  0.656962   \n",
       "\n",
       "           bac  \n",
       "amzn -0.448670  \n",
       "f     0.736045  \n",
       "aapl -0.144500  \n",
       "tsla -0.378637  \n",
       "mrna -0.568822  \n",
       "tri   0.281257  \n",
       "xom   0.656962  \n",
       "bac   1.000000  "
      ]
     },
     "execution_count": 37,
     "metadata": {},
     "output_type": "execute_result"
    }
   ],
   "source": [
    "companies = (\"amzn\", \"f\",\"aapl\", \"tsla\", \"mrna\", 'tri', 'xom', 'bac')\n",
    "start = '2019-01-01'\n",
    "end = '2020-08-17'\n",
    "\n",
    "stock_correlation(companies, start, end)"
   ]
  },
  {
   "cell_type": "markdown",
   "metadata": {},
   "source": [
    "##### Now with packages\n",
    "\n",
    "It turns out that pandas already has a function included. "
   ]
  },
  {
   "cell_type": "code",
   "execution_count": null,
   "metadata": {},
   "outputs": [
    {
     "name": "stdout",
     "output_type": "stream",
     "text": [
      "Standard Deviations:\n",
      "Amazon             406.656650\n",
      "Ford                 1.661293\n",
      "Apple               70.387636\n",
      "Tesla              369.211251\n",
      "Moderna             19.413391\n",
      "Thomson Reuters      7.474688\n",
      "Exxon Mobile        14.088611\n",
      "Bank of America      3.802473\n",
      "dtype: float64\n",
      "Covariances:                         Amazon        Ford         Apple          Tesla  \\\n",
      "Amazon           165369.630660 -375.451889  24341.294099  140037.568193   \n",
      "Ford               -375.451889    2.759894    -63.651480    -392.082014   \n",
      "Apple             24341.294099  -63.651480   4954.419268   23413.983854   \n",
      "Tesla            140037.568193 -392.082014  23413.983854  136316.947524   \n",
      "Moderna            7291.289927  -22.087662   1064.088197    6404.164548   \n",
      "Thomson Reuters    1167.984834   -1.408961    358.926077    1133.677682   \n",
      "Exxon Mobile      -4026.441674   21.429388   -727.874298   -3996.439090   \n",
      "Bank of America    -693.779635    4.649611    -38.674950    -531.574938   \n",
      "\n",
      "                     Moderna  Thomson Reuters  Exxon Mobile  Bank of America  \n",
      "Amazon           7291.289927      1167.984834  -4026.441674      -693.779635  \n",
      "Ford              -22.087662        -1.408961     21.429388         4.649611  \n",
      "Apple            1064.088197       358.926077   -727.874298       -38.674950  \n",
      "Tesla            6404.164548      1133.677682  -3996.439090      -531.574938  \n",
      "Moderna           376.879759        30.827458   -204.065624       -41.989832  \n",
      "Thomson Reuters    30.827458        55.870966    -38.288915         7.993963  \n",
      "Exxon Mobile     -204.065624       -38.288915    198.488948        35.194482  \n",
      "Bank of America   -41.989832         7.993963     35.194482        14.458802  \n"
     ]
    }
   ],
   "source": [
    "pd_std = small_data.std( )\n",
    "pd_cov = small_data.cov( )\n",
    "\n",
    "print(f\"Standard Deviations:\\n{pd_std}\")\n",
    "print(f\"Covariances: {pd_cov}\")\n"
   ]
  },
  {
   "cell_type": "code",
   "execution_count": null,
   "metadata": {},
   "outputs": [
    {
     "data": {
      "text/html": [
       "<div>\n",
       "<style scoped>\n",
       "    .dataframe tbody tr th:only-of-type {\n",
       "        vertical-align: middle;\n",
       "    }\n",
       "\n",
       "    .dataframe tbody tr th {\n",
       "        vertical-align: top;\n",
       "    }\n",
       "\n",
       "    .dataframe thead th {\n",
       "        text-align: right;\n",
       "    }\n",
       "</style>\n",
       "<table border=\"1\" class=\"dataframe\">\n",
       "  <thead>\n",
       "    <tr style=\"text-align: right;\">\n",
       "      <th></th>\n",
       "      <th>Amazon</th>\n",
       "      <th>Ford</th>\n",
       "      <th>Apple</th>\n",
       "      <th>Tesla</th>\n",
       "      <th>Moderna</th>\n",
       "      <th>Thomson Reuters</th>\n",
       "      <th>Exxon Mobile</th>\n",
       "      <th>Bank of America</th>\n",
       "    </tr>\n",
       "  </thead>\n",
       "  <tbody>\n",
       "    <tr>\n",
       "      <td>Amazon</td>\n",
       "      <td>1.000000</td>\n",
       "      <td>-0.555751</td>\n",
       "      <td>0.850392</td>\n",
       "      <td>0.932700</td>\n",
       "      <td>0.923581</td>\n",
       "      <td>0.384252</td>\n",
       "      <td>-0.702790</td>\n",
       "      <td>-0.448670</td>\n",
       "    </tr>\n",
       "    <tr>\n",
       "      <td>Ford</td>\n",
       "      <td>-0.555751</td>\n",
       "      <td>1.000000</td>\n",
       "      <td>-0.544335</td>\n",
       "      <td>-0.639228</td>\n",
       "      <td>-0.684861</td>\n",
       "      <td>-0.113464</td>\n",
       "      <td>0.915578</td>\n",
       "      <td>0.736045</td>\n",
       "    </tr>\n",
       "    <tr>\n",
       "      <td>Apple</td>\n",
       "      <td>0.850392</td>\n",
       "      <td>-0.544335</td>\n",
       "      <td>1.000000</td>\n",
       "      <td>0.900957</td>\n",
       "      <td>0.778717</td>\n",
       "      <td>0.682206</td>\n",
       "      <td>-0.733993</td>\n",
       "      <td>-0.144500</td>\n",
       "    </tr>\n",
       "    <tr>\n",
       "      <td>Tesla</td>\n",
       "      <td>0.932700</td>\n",
       "      <td>-0.639228</td>\n",
       "      <td>0.900957</td>\n",
       "      <td>1.000000</td>\n",
       "      <td>0.893483</td>\n",
       "      <td>0.410792</td>\n",
       "      <td>-0.768299</td>\n",
       "      <td>-0.378637</td>\n",
       "    </tr>\n",
       "    <tr>\n",
       "      <td>Moderna</td>\n",
       "      <td>0.923581</td>\n",
       "      <td>-0.684861</td>\n",
       "      <td>0.778717</td>\n",
       "      <td>0.893483</td>\n",
       "      <td>1.000000</td>\n",
       "      <td>0.212443</td>\n",
       "      <td>-0.746106</td>\n",
       "      <td>-0.568822</td>\n",
       "    </tr>\n",
       "    <tr>\n",
       "      <td>Thomson Reuters</td>\n",
       "      <td>0.384252</td>\n",
       "      <td>-0.113464</td>\n",
       "      <td>0.682206</td>\n",
       "      <td>0.410792</td>\n",
       "      <td>0.212443</td>\n",
       "      <td>1.000000</td>\n",
       "      <td>-0.363590</td>\n",
       "      <td>0.281257</td>\n",
       "    </tr>\n",
       "    <tr>\n",
       "      <td>Exxon Mobile</td>\n",
       "      <td>-0.702790</td>\n",
       "      <td>0.915578</td>\n",
       "      <td>-0.733993</td>\n",
       "      <td>-0.768299</td>\n",
       "      <td>-0.746106</td>\n",
       "      <td>-0.363590</td>\n",
       "      <td>1.000000</td>\n",
       "      <td>0.656962</td>\n",
       "    </tr>\n",
       "    <tr>\n",
       "      <td>Bank of America</td>\n",
       "      <td>-0.448670</td>\n",
       "      <td>0.736045</td>\n",
       "      <td>-0.144500</td>\n",
       "      <td>-0.378637</td>\n",
       "      <td>-0.568822</td>\n",
       "      <td>0.281257</td>\n",
       "      <td>0.656962</td>\n",
       "      <td>1.000000</td>\n",
       "    </tr>\n",
       "  </tbody>\n",
       "</table>\n",
       "</div>"
      ],
      "text/plain": [
       "                   Amazon      Ford     Apple     Tesla   Moderna  \\\n",
       "Amazon           1.000000 -0.555751  0.850392  0.932700  0.923581   \n",
       "Ford            -0.555751  1.000000 -0.544335 -0.639228 -0.684861   \n",
       "Apple            0.850392 -0.544335  1.000000  0.900957  0.778717   \n",
       "Tesla            0.932700 -0.639228  0.900957  1.000000  0.893483   \n",
       "Moderna          0.923581 -0.684861  0.778717  0.893483  1.000000   \n",
       "Thomson Reuters  0.384252 -0.113464  0.682206  0.410792  0.212443   \n",
       "Exxon Mobile    -0.702790  0.915578 -0.733993 -0.768299 -0.746106   \n",
       "Bank of America -0.448670  0.736045 -0.144500 -0.378637 -0.568822   \n",
       "\n",
       "                 Thomson Reuters  Exxon Mobile  Bank of America  \n",
       "Amazon                  0.384252     -0.702790        -0.448670  \n",
       "Ford                   -0.113464      0.915578         0.736045  \n",
       "Apple                   0.682206     -0.733993        -0.144500  \n",
       "Tesla                   0.410792     -0.768299        -0.378637  \n",
       "Moderna                 0.212443     -0.746106        -0.568822  \n",
       "Thomson Reuters         1.000000     -0.363590         0.281257  \n",
       "Exxon Mobile           -0.363590      1.000000         0.656962  \n",
       "Bank of America         0.281257      0.656962         1.000000  "
      ]
     },
     "execution_count": 155,
     "metadata": {},
     "output_type": "execute_result"
    }
   ],
   "source": [
    "small_data.corr( )"
   ]
  },
  {
   "cell_type": "markdown",
   "metadata": {},
   "source": [
    "#### Probability\n",
    "\n",
    "Rule 1) Probabilities must be 0 or greater\n",
    "\n",
    "Rule 2) The probabilities of all events within a space must add to 1.\n",
    "\n",
    "Rule 3) If events are independent, then the probability that any one of them can occur is equal to their added probability.\n",
    "\n",
    "To calculate a probability, take the number of events that follow your critera and divide by the total number of possible events.\n",
    "\n",
    "Example: Someone observes a group of students. 3 are wearing blue. 2 are wearing green. 6 are wearing red. \n",
    "\n",
    "If we asked them to line up randomly, the probability that the first one would be wearing blue would be $ \\frac{\\text{number wearing blue}}{\\text{total number of students}} = \\frac{3}{11}$. If we wanted probability that the first student would be wearing blue or green that would be $\\frac{3 + 2}{11}$. If we wanted the probability the first student would be wearing blue and green that would be $0$ because each student is only wearing one color apiece."
   ]
  },
  {
   "cell_type": "markdown",
   "metadata": {},
   "source": [
    "##### Distributions\n",
    "\n",
    "Distributions provide invaluable insight about how certain populations are likely to behave. We are going to cover the Gaussian(Normal), Log-normal, Poisson, and binomial."
   ]
  },
  {
   "cell_type": "markdown",
   "metadata": {},
   "source": [
    "##### Gaussian\n",
    "mean: $\\mu$\n",
    "\n",
    "standard deviation: $\\sigma$\n",
    "\n",
    "pdf: $\\frac{1}{\\sigma \\sqrt{2 \\pi}} \\cdot e^{-\\frac{1}{2} \\cdot \\big(\\frac{x - \\mu}{\\sigma}\\big)^2}  $"
   ]
  },
  {
   "cell_type": "code",
   "execution_count": null,
   "metadata": {},
   "outputs": [
    {
     "data": {
      "text/plain": [
       "<function matplotlib.pyplot.show(*args, **kw)>"
      ]
     },
     "execution_count": 63,
     "metadata": {},
     "output_type": "execute_result"
    },
    {
     "data": {
      "image/png": "[encoded data removed]",
      "text/plain": [
       "<Figure size 432x288 with 1 Axes>"
      ]
     },
     "metadata": {
      "needs_background": "light"
     },
     "output_type": "display_data"
    }
   ],
   "source": [
    "import numpy as np\n",
    "import math\n",
    "import matplotlib.pyplot as plt\n",
    "# note 1_000 is the same as 1000.\n",
    "x = np.linspace(-5,5,1_000)\n",
    "mean = 0\n",
    "std = 1\n",
    "gauss = 1/( std * math.sqrt(2 * math.pi)) * math.e**(-1/2 * ((x-mean)/std)**2)\n",
    "\n",
    "plt.plot(x, gauss)\n",
    "plt.xlabel(\"X\")\n",
    "plt.ylabel(\"PDF\")\n",
    "plt.show"
   ]
  },
  {
   "cell_type": "code",
   "execution_count": null,
   "metadata": {},
   "outputs": [
    {
     "data": {
      "image/png": "[encoded data removed]",
      "text/plain": [
       "<Figure size 432x288 with 1 Axes>"
      ]
     },
     "metadata": {
      "needs_background": "light"
     },
     "output_type": "display_data"
    }
   ],
   "source": [
    "parameters = [[0,1], [0,5], [0, 0.2], [-2, 0.5] ]\n",
    "\n",
    "x = np.linspace(-5,5,1_000)\n",
    "for parameter in parameters:\n",
    "    mean = parameter[0]\n",
    "    std = parameter[1]\n",
    "    gauss = 1/( std * math.sqrt(2 * math.pi)) * math.e**(-1/2 * ((x-mean)/std)**2)\n",
    "    plt.plot(x, gauss)\n",
    "    plt.xlabel(\"X\")\n",
    "    plt.ylabel(\"PDF\")\n",
    "plt.legend(parameters)    \n",
    "plt.show()"
   ]
  },
  {
   "cell_type": "markdown",
   "metadata": {},
   "source": [
    "##### Binomial\n",
    "\n",
    "This allows use to estimate the likelihood of a binary event. For example, if I have a 50-50 chance of getting a heads when I flip a coin, how likely is it that I get 6 heads if I flip the coin 10 times?\n",
    "\n",
    "The equation to estimate this is $$ {{n}\\choose{k}} \\cdot p^{k} \\cdot (1 - p)^{n-k} $$\n",
    "\n",
    "For our example, the numbers become $$ {{10}\\choose{6}} \\cdot 0.5^{6} \\cdot (1 - 0.5)^{10-6} $$\n",
    "$$ = 0.205078125$$\n",
    "\n",
    "Let's experiment below with 10 coin flips"
   ]
  },
  {
   "cell_type": "code",
   "execution_count": null,
   "metadata": {},
   "outputs": [
    {
     "data": {
      "image/png": "[encoded data removed]",
      "text/plain": [
       "<Figure size 432x288 with 1 Axes>"
      ]
     },
     "metadata": {
      "needs_background": "light"
     },
     "output_type": "display_data"
    }
   ],
   "source": [
    "import math\n",
    "import numpy as np\n",
    "def choose(n,k):\n",
    "    return( (math.factorial(n)) / float((math.factorial(k) * math.factorial(n - k))) )\n",
    "\n",
    "\n",
    "probabilities = [np.arange(0.1,1,0.2)]\n",
    "heads = np.arange(0,10)\n",
    "for probability in probabilities:\n",
    "    p = [ ]\n",
    "    for head in heads:\n",
    "        p.append(choose(10,head) * probability**head * (1-probability)**(10 - head))\n",
    "    plt.plot(heads, p)\n",
    "    plt.xlabel(\"Number of Heads\")\n",
    "    plt.ylabel(\"Likelihood\")\n",
    "    plt.legend(np.round(probability,1))\n",
    "plt.show( )"
   ]
  },
  {
   "cell_type": "markdown",
   "metadata": {},
   "source": [
    "##### Log-Normal\n",
    "\n",
    "This is a random variable whose logs are normally distributed.\n",
    "\n",
    "pdf: $$\\frac{1}{x} \\cdot \\frac{1}{\\sigma\\sqrt{2 \\pi}} e^\\frac{-\\big(\\text{ln}(x) - \\mu\\big)^2}{2 * \\sigma^2}$$"
   ]
  },
  {
   "cell_type": "code",
   "execution_count": null,
   "metadata": {},
   "outputs": [
    {
     "data": {
      "image/png": "[encoded data removed]",
      "text/plain": [
       "<Figure size 432x288 with 1 Axes>"
      ]
     },
     "metadata": {
      "needs_background": "light"
     },
     "output_type": "display_data"
    }
   ],
   "source": [
    "import math\n",
    "import numpy as np\n",
    "parameters = [[0,0.25], [0,0.5], [0,1]]\n",
    "x = np.linspace(0.1,2.5,1_000)\n",
    "\n",
    "for parameter in parameters:\n",
    "    mean = parameter[0]\n",
    "    std = parameter[1]\n",
    "    log_normal = 1 / x * 1 / (std * math.sqrt(2 * math.pi)) * math.e**(-(np.log(x) - mean)**2/(2 * std**2))\n",
    "    plt.plot(x, log_normal)\n",
    "    plt.xlabel(\"X\")\n",
    "    plt.ylabel(\"PDF\")\n",
    "plt.legend(parameters)    \n",
    "plt.show()"
   ]
  },
  {
   "cell_type": "markdown",
   "metadata": {},
   "source": [
    "##### Poisson\n",
    "\n",
    "If we want to estimate the number of times an event occurs in an interval of time, we can use a Poisson distribution to help estimate.\n",
    "\n",
    "$\\lambda$ = expected number of times\n",
    "\n",
    "$ k $ = new number of times\n",
    "\n",
    "pdf: $$ \\frac{\\lambda^{k} \\cdot e^{-\\lambda}}{k!} $$\n",
    "\n",
    "Now let's create an example, say we want to estimate the likelihood that 5 big companies could go bankrupt in the next 10 years. We collect data from the last 100 years and get the average number of big companies that go bankrupt per decade to be 10.\n",
    "\n",
    "$$ \\frac{10^{5} \\cdot e^{-10}}{5!} $$\n",
    "$$ = 0.03783 $$ \n",
    "\n",
    "Below, we are going to estimate the likelihood that k goals are scored in a soccer match given an average of $\\lambda$ goals"
   ]
  },
  {
   "cell_type": "code",
   "execution_count": null,
   "metadata": {},
   "outputs": [
    {
     "data": {
      "image/png": "[encoded data removed]",
      "text/plain": [
       "<Figure size 432x288 with 1 Axes>"
      ]
     },
     "metadata": {
      "needs_background": "light"
     },
     "output_type": "display_data"
    }
   ],
   "source": [
    "import math\n",
    "import numpy as np\n",
    "from scipy.special import factorial\n",
    "lambdas = np.arange(0,4.0,0.5)\n",
    "k = np.arange(0,10,1)\n",
    "for one_lambda in lambdas:\n",
    "    probabilities =  one_lambda**(k) * math.e**(-one_lambda) / factorial(k)\n",
    "    plt.plot(k, probabilities)\n",
    "    plt.xlabel(\"Number of actual goals\")\n",
    "    plt.ylabel(\"Probablity\")\n",
    "plt.legend(lambdas)    \n",
    "plt.show()"
   ]
  },
  {
   "cell_type": "markdown",
   "metadata": {},
   "source": [
    "##### Now with packages"
   ]
  },
  {
   "cell_type": "code",
   "execution_count": null,
   "metadata": {},
   "outputs": [
    {
     "data": {
      "image/png": "[encoded data removed]",
      "text/plain": [
       "<Figure size 432x288 with 1 Axes>"
      ]
     },
     "metadata": {
      "needs_background": "light"
     },
     "output_type": "display_data"
    }
   ],
   "source": [
    "from scipy.stats import norm\n",
    "from scipy.stats import poisson\n",
    "from scipy.stats import binom\n",
    "from scipy.stats import lognorm\n",
    "\n",
    "k = np.arange(0,11)\n",
    "plt.plot(k, binom.pmf(k,10, 0.5))\n",
    "plt.xlabel('Number of heads')\n",
    "plt.ylabel('Probability')\n",
    "plt.show( )"
   ]
  },
  {
   "cell_type": "code",
   "execution_count": null,
   "metadata": {},
   "outputs": [
    {
     "data": {
      "image/png": "[encoded data removed]",
      "text/plain": [
       "<Figure size 432x288 with 1 Axes>"
      ]
     },
     "metadata": {
      "needs_background": "light"
     },
     "output_type": "display_data"
    }
   ],
   "source": [
    "x = np.linspace(-5,5,1_000)\n",
    "\n",
    "plt.plot(x, norm.pdf(x,0,1))\n",
    "plt.title('The Normalest of All Normie Normals')\n",
    "plt.xlabel('X')\n",
    "plt.ylabel('PDF')\n",
    "plt.show( )"
   ]
  },
  {
   "cell_type": "markdown",
   "metadata": {},
   "source": [
    "##### Confidence intervals\n",
    "\n",
    "In statistics, it often comes down to having a rough idea or an estimate of the true value. While we can calculate a mean, the probability that it is exactly right is 0. We can strengthen the confidence of our answer by using a confidence interval."
   ]
  },
  {
   "cell_type": "code",
   "execution_count": null,
   "metadata": {},
   "outputs": [
    {
     "name": "stdout",
     "output_type": "stream",
     "text": [
      "Help on built-in function randint:\n",
      "\n",
      "randint(...) method of mtrand.RandomState instance\n",
      "    randint(low, high=None, size=None, dtype='l')\n",
      "    \n",
      "    Return random integers from `low` (inclusive) to `high` (exclusive).\n",
      "    \n",
      "    Return random integers from the \"discrete uniform\" distribution of\n",
      "    the specified dtype in the \"half-open\" interval [`low`, `high`). If\n",
      "    `high` is None (the default), then results are from [0, `low`).\n",
      "    \n",
      "    Parameters\n",
      "    ----------\n",
      "    low : int\n",
      "        Lowest (signed) integer to be drawn from the distribution (unless\n",
      "        ``high=None``, in which case this parameter is one above the\n",
      "        *highest* such integer).\n",
      "    high : int, optional\n",
      "        If provided, one above the largest (signed) integer to be drawn\n",
      "        from the distribution (see above for behavior if ``high=None``).\n",
      "    size : int or tuple of ints, optional\n",
      "        Output shape.  If the given shape is, e.g., ``(m, n, k)``, then\n",
      "        ``m * n * k`` samples are drawn.  Default is None, in which case a\n",
      "        single value is returned.\n",
      "    dtype : dtype, optional\n",
      "        Desired dtype of the result. All dtypes are determined by their\n",
      "        name, i.e., 'int64', 'int', etc, so byteorder is not available\n",
      "        and a specific precision may have different C types depending\n",
      "        on the platform. The default value is 'np.int'.\n",
      "    \n",
      "        .. versionadded:: 1.11.0\n",
      "    \n",
      "    Returns\n",
      "    -------\n",
      "    out : int or ndarray of ints\n",
      "        `size`-shaped array of random integers from the appropriate\n",
      "        distribution, or a single such random int if `size` not provided.\n",
      "    \n",
      "    See Also\n",
      "    --------\n",
      "    random.random_integers : similar to `randint`, only for the closed\n",
      "        interval [`low`, `high`], and 1 is the lowest value if `high` is\n",
      "        omitted. In particular, this other one is the one to use to generate\n",
      "        uniformly distributed discrete non-integers.\n",
      "    \n",
      "    Examples\n",
      "    --------\n",
      "    >>> np.random.randint(2, size=10)\n",
      "    array([1, 0, 0, 0, 1, 1, 0, 0, 1, 0])\n",
      "    >>> np.random.randint(1, size=10)\n",
      "    array([0, 0, 0, 0, 0, 0, 0, 0, 0, 0])\n",
      "    \n",
      "    Generate a 2 x 4 array of ints between 0 and 4, inclusive:\n",
      "    \n",
      "    >>> np.random.randint(5, size=(2, 4))\n",
      "    array([[4, 0, 2, 1],\n",
      "           [3, 2, 2, 0]])\n",
      "\n"
     ]
    }
   ],
   "source": [
    "help(random.randint)"
   ]
  },
  {
   "cell_type": "code",
   "execution_count": null,
   "metadata": {},
   "outputs": [
    {
     "name": "stdout",
     "output_type": "stream",
     "text": [
      "The first 5 data look like [14 89 25 30 76]\n",
      "The t value is 1.9623414611334487\n",
      "The estimate average age of the data is 48.233\n",
      "Our confidence interval is (46.403, 50.063)\n"
     ]
    }
   ],
   "source": [
    "from scipy.stats import t\n",
    "import scipy.stats\n",
    "from numpy import random\n",
    "\n",
    "# this will generate a numpy array of any integer between 0 \n",
    "data = random.randint(0, 100, size=(1_000))\n",
    "print(f\"The first 5 data look like {data[0:5]}\")\n",
    "confidence_level = 0.95\n",
    "mean = sum(data) / len(data)\n",
    "std = np.std(data, ddof = 0)\n",
    "n = len(data) \n",
    "# this gets our t value\n",
    "t_value = abs(t.ppf((1 - confidence_level)/2, n - 1))\n",
    "print(f\"The t value is {t_value}\")\n",
    "print(f\"The estimate average age of the data is {mean}\")\n",
    "\n",
    "left = mean - t_value * std/(n**0.5)\n",
    "right = mean + t_value * std/(n**0.5)\n",
    "print(f\"Our confidence interval is ({round(left, 3)}, {round(right,3)})\")\n"
   ]
  },
  {
   "cell_type": "markdown",
   "metadata": {},
   "source": [
    "##### Now with packages\n",
    "\n",
    "Now with a built in function. Notice that this function uses standard error instead of standard deviation. \n",
    "\n",
    "Standard error = $ \\frac{s}{\\sqrt{n}} $ where s is your sample standard deviation"
   ]
  },
  {
   "cell_type": "code",
   "execution_count": null,
   "metadata": {},
   "outputs": [
    {
     "name": "stdout",
     "output_type": "stream",
     "text": [
      "We get back a <class 'tuple'>\n"
     ]
    },
    {
     "data": {
      "text/plain": [
       "(47.771587057651935, 57.02841294234806)"
      ]
     },
     "execution_count": 184,
     "metadata": {},
     "output_type": "execute_result"
    }
   ],
   "source": [
    "print(f\"We get back a {type(t.interval(confidence_level, n - 1, mean, std/n**0.5))}\")\n",
    "t.interval(confidence_level, n - 1, mean, std/n**0.5)"
   ]
  },
  {
   "cell_type": "markdown",
   "metadata": {},
   "source": [
    "##### Regression\n",
    "\n",
    "We are going to quickly build a very basic machine learning model using linear regression. We will try to predict today's closing stock price based on what other companies closed. The steps will be to check for correlations the prediction companies and then run the data. We will choose amazon as the company we want to predict and the other companies for our predictors."
   ]
  },
  {
   "cell_type": "code",
   "execution_count": null,
   "metadata": {},
   "outputs": [],
   "source": [
    "companies = (\"amzn\", \"tsla\", \"mrna\", 'tri', 'xom', 'bac')\n",
    "start = '2019-01-01'\n",
    "end = '2020-08-17'\n",
    "\n",
    "data = pdr.DataReader(companies, data_source = 'yahoo', start = start, end = end)\n",
    "column_list = []\n",
    "for company in companies:\n",
    "    column_list.append(('Close', str(company)))\n",
    "small_data = data[column_list]\n",
    "small_data.columns = companies"
   ]
  },
  {
   "cell_type": "code",
   "execution_count": null,
   "metadata": {},
   "outputs": [
    {
     "data": {
      "text/html": [
       "<div>\n",
       "<style scoped>\n",
       "    .dataframe tbody tr th:only-of-type {\n",
       "        vertical-align: middle;\n",
       "    }\n",
       "\n",
       "    .dataframe tbody tr th {\n",
       "        vertical-align: top;\n",
       "    }\n",
       "\n",
       "    .dataframe thead th {\n",
       "        text-align: right;\n",
       "    }\n",
       "</style>\n",
       "<table border=\"1\" class=\"dataframe\">\n",
       "  <thead>\n",
       "    <tr style=\"text-align: right;\">\n",
       "      <th></th>\n",
       "      <th>tsla</th>\n",
       "      <th>mrna</th>\n",
       "      <th>tri</th>\n",
       "      <th>xom</th>\n",
       "      <th>bac</th>\n",
       "    </tr>\n",
       "  </thead>\n",
       "  <tbody>\n",
       "    <tr>\n",
       "      <td>tsla</td>\n",
       "      <td>1.000000</td>\n",
       "      <td>0.893483</td>\n",
       "      <td>0.410792</td>\n",
       "      <td>-0.768299</td>\n",
       "      <td>-0.378637</td>\n",
       "    </tr>\n",
       "    <tr>\n",
       "      <td>mrna</td>\n",
       "      <td>0.893483</td>\n",
       "      <td>1.000000</td>\n",
       "      <td>0.212443</td>\n",
       "      <td>-0.746106</td>\n",
       "      <td>-0.568822</td>\n",
       "    </tr>\n",
       "    <tr>\n",
       "      <td>tri</td>\n",
       "      <td>0.410792</td>\n",
       "      <td>0.212443</td>\n",
       "      <td>1.000000</td>\n",
       "      <td>-0.363590</td>\n",
       "      <td>0.281257</td>\n",
       "    </tr>\n",
       "    <tr>\n",
       "      <td>xom</td>\n",
       "      <td>-0.768299</td>\n",
       "      <td>-0.746106</td>\n",
       "      <td>-0.363590</td>\n",
       "      <td>1.000000</td>\n",
       "      <td>0.656962</td>\n",
       "    </tr>\n",
       "    <tr>\n",
       "      <td>bac</td>\n",
       "      <td>-0.378637</td>\n",
       "      <td>-0.568822</td>\n",
       "      <td>0.281257</td>\n",
       "      <td>0.656962</td>\n",
       "      <td>1.000000</td>\n",
       "    </tr>\n",
       "  </tbody>\n",
       "</table>\n",
       "</div>"
      ],
      "text/plain": [
       "          tsla      mrna       tri       xom       bac\n",
       "tsla  1.000000  0.893483  0.410792 -0.768299 -0.378637\n",
       "mrna  0.893483  1.000000  0.212443 -0.746106 -0.568822\n",
       "tri   0.410792  0.212443  1.000000 -0.363590  0.281257\n",
       "xom  -0.768299 -0.746106 -0.363590  1.000000  0.656962\n",
       "bac  -0.378637 -0.568822  0.281257  0.656962  1.000000"
      ]
     },
     "execution_count": 263,
     "metadata": {},
     "output_type": "execute_result"
    }
   ],
   "source": [
    "# we will delete mrna and xom\n",
    "stock_correlation((\"tsla\", \"mrna\", 'tri', 'xom', 'bac'), start, end)"
   ]
  },
  {
   "cell_type": "code",
   "execution_count": null,
   "metadata": {},
   "outputs": [
    {
     "data": {
      "text/html": [
       "<div>\n",
       "<style scoped>\n",
       "    .dataframe tbody tr th:only-of-type {\n",
       "        vertical-align: middle;\n",
       "    }\n",
       "\n",
       "    .dataframe tbody tr th {\n",
       "        vertical-align: top;\n",
       "    }\n",
       "\n",
       "    .dataframe thead th {\n",
       "        text-align: right;\n",
       "    }\n",
       "</style>\n",
       "<table border=\"1\" class=\"dataframe\">\n",
       "  <thead>\n",
       "    <tr style=\"text-align: right;\">\n",
       "      <th></th>\n",
       "      <th>tsla</th>\n",
       "      <th>tri</th>\n",
       "      <th>bac</th>\n",
       "    </tr>\n",
       "  </thead>\n",
       "  <tbody>\n",
       "    <tr>\n",
       "      <td>tsla</td>\n",
       "      <td>1.000000</td>\n",
       "      <td>0.410792</td>\n",
       "      <td>-0.378637</td>\n",
       "    </tr>\n",
       "    <tr>\n",
       "      <td>tri</td>\n",
       "      <td>0.410792</td>\n",
       "      <td>1.000000</td>\n",
       "      <td>0.281257</td>\n",
       "    </tr>\n",
       "    <tr>\n",
       "      <td>bac</td>\n",
       "      <td>-0.378637</td>\n",
       "      <td>0.281257</td>\n",
       "      <td>1.000000</td>\n",
       "    </tr>\n",
       "  </tbody>\n",
       "</table>\n",
       "</div>"
      ],
      "text/plain": [
       "          tsla       tri       bac\n",
       "tsla  1.000000  0.410792 -0.378637\n",
       "tri   0.410792  1.000000  0.281257\n",
       "bac  -0.378637  0.281257  1.000000"
      ]
     },
     "execution_count": 265,
     "metadata": {},
     "output_type": "execute_result"
    }
   ],
   "source": [
    "stock_correlation(('tsla','tri', 'bac'), start, end)"
   ]
  },
  {
   "cell_type": "code",
   "execution_count": null,
   "metadata": {},
   "outputs": [
    {
     "data": {
      "text/html": [
       "<div>\n",
       "<style scoped>\n",
       "    .dataframe tbody tr th:only-of-type {\n",
       "        vertical-align: middle;\n",
       "    }\n",
       "\n",
       "    .dataframe tbody tr th {\n",
       "        vertical-align: top;\n",
       "    }\n",
       "\n",
       "    .dataframe thead th {\n",
       "        text-align: right;\n",
       "    }\n",
       "</style>\n",
       "<table border=\"1\" class=\"dataframe\">\n",
       "  <thead>\n",
       "    <tr style=\"text-align: right;\">\n",
       "      <th></th>\n",
       "      <th>amzn</th>\n",
       "      <th>tsla</th>\n",
       "      <th>tri</th>\n",
       "      <th>bac</th>\n",
       "    </tr>\n",
       "  </thead>\n",
       "  <tbody>\n",
       "    <tr>\n",
       "      <td>amzn</td>\n",
       "      <td>1.000000</td>\n",
       "      <td>0.932700</td>\n",
       "      <td>0.384252</td>\n",
       "      <td>-0.448670</td>\n",
       "    </tr>\n",
       "    <tr>\n",
       "      <td>tsla</td>\n",
       "      <td>0.932700</td>\n",
       "      <td>1.000000</td>\n",
       "      <td>0.410792</td>\n",
       "      <td>-0.378637</td>\n",
       "    </tr>\n",
       "    <tr>\n",
       "      <td>tri</td>\n",
       "      <td>0.384252</td>\n",
       "      <td>0.410792</td>\n",
       "      <td>1.000000</td>\n",
       "      <td>0.281257</td>\n",
       "    </tr>\n",
       "    <tr>\n",
       "      <td>bac</td>\n",
       "      <td>-0.448670</td>\n",
       "      <td>-0.378637</td>\n",
       "      <td>0.281257</td>\n",
       "      <td>1.000000</td>\n",
       "    </tr>\n",
       "  </tbody>\n",
       "</table>\n",
       "</div>"
      ],
      "text/plain": [
       "          amzn      tsla       tri       bac\n",
       "amzn  1.000000  0.932700  0.384252 -0.448670\n",
       "tsla  0.932700  1.000000  0.410792 -0.378637\n",
       "tri   0.384252  0.410792  1.000000  0.281257\n",
       "bac  -0.448670 -0.378637  0.281257  1.000000"
      ]
     },
     "execution_count": 267,
     "metadata": {},
     "output_type": "execute_result"
    }
   ],
   "source": [
    "stock_correlation(('amzn','tsla','tri', 'bac'), start, end)"
   ]
  },
  {
   "cell_type": "code",
   "execution_count": null,
   "metadata": {},
   "outputs": [],
   "source": [
    "predictors = small_data[['tsla', 'tri', 'bac']]\n",
    "y = small_data['amzn']"
   ]
  },
  {
   "cell_type": "code",
   "execution_count": null,
   "metadata": {},
   "outputs": [],
   "source": [
    "m,n = predictors.shape\n",
    "train_data = predictors.iloc[0:m-5]\n",
    "test_data = predictors.iloc[m-5:]\n",
    "train_y = y.iloc[0:m-5]\n",
    "test_y = y.iloc[m-5:]"
   ]
  },
  {
   "cell_type": "markdown",
   "metadata": {},
   "source": [
    "We will be using the main machine learning package's function for our linear regression. We will be using this package for most of our machine learning work."
   ]
  },
  {
   "cell_type": "code",
   "execution_count": null,
   "metadata": {},
   "outputs": [
    {
     "data": {
      "text/plain": [
       "LinearRegression(copy_X=True, fit_intercept=True, n_jobs=None, normalize=False)"
      ]
     },
     "execution_count": 308,
     "metadata": {},
     "output_type": "execute_result"
    }
   ],
   "source": [
    "from sklearn.linear_model import LinearRegression\n",
    "regression = LinearRegression( )\n",
    "regression.fit(train_data, train_y)"
   ]
  },
  {
   "cell_type": "code",
   "execution_count": null,
   "metadata": {},
   "outputs": [
    {
     "name": "stdout",
     "output_type": "stream",
     "text": [
      "Our intercept is 1716.2819593105162 and the coefficents are [  0.92271748   4.44713174 -16.47445182]\n"
     ]
    }
   ],
   "source": [
    "print(f\"Our intercept is {regression.intercept_} and the coefficents are {regression.coef_}\")\n",
    "predictions = regression.predict(test_data)"
   ]
  },
  {
   "cell_type": "code",
   "execution_count": null,
   "metadata": {},
   "outputs": [
    {
     "name": "stdout",
     "output_type": "stream",
     "text": [
      "We predicted [2872.36364754 3047.17196627 3112.64077297 3137.58860335 3318.28427153].\n",
      "The actual was [3080.669921875, 3162.239990234375, 3161.02001953125, 3148.02001953125, 3182.409912109375].\n",
      "The difference is [-208.30627434 -115.06802396  -48.37924656  -10.43141618  135.87435942]\n"
     ]
    }
   ],
   "source": [
    "print(f\"We predicted {predictions}.\")\n",
    "print(f\"The actual was {list(test_y)}.\")\n",
    "print(f\"The difference is {predictions - list(test_y)}\")"
   ]
  },
  {
   "cell_type": "code",
   "execution_count": null,
   "metadata": {},
   "outputs": [],
   "source": []
  }
 ],
 "metadata": {
  "kernelspec": {
   "display_name": "Python 3",
   "language": "python",
   "name": "python3"
  },
  "language_info": {
   "codemirror_mode": {
    "name": "ipython",
    "version": 3
   },
   "file_extension": ".py",
   "mimetype": "text/x-python",
   "name": "python",
   "nbconvert_exporter": "python",
   "pygments_lexer": "ipython3",
   "version": "3.10.13"
  },
  "toc": {
   "base_numbering": 1,
   "nav_menu": {},
   "number_sections": true,
   "sideBar": true,
   "skip_h1_title": false,
   "title_cell": "Table of Contents",
   "title_sidebar": "Contents",
   "toc_cell": false,
   "toc_position": {},
   "toc_section_display": true,
   "toc_window_display": false
  }
 },
 "nbformat": 4,
 "nbformat_minor": 2
}
